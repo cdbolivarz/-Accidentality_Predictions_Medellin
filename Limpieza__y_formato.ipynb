{
  "nbformat": 4,
  "nbformat_minor": 0,
  "metadata": {
    "colab": {
      "name": "Limpieza _y_formato.ipynb",
      "provenance": [],
      "collapsed_sections": [],
      "include_colab_link": true
    },
    "kernelspec": {
      "name": "python3",
      "display_name": "Python 3"
    }
  },
  "cells": [
    {
      "cell_type": "markdown",
      "metadata": {
        "id": "view-in-github",
        "colab_type": "text"
      },
      "source": [
        "<a href=\"https://colab.research.google.com/github/cdbolivarz/Accidentality_Predictions_Medellin/blob/master/Limpieza__y_formato.ipynb\" target=\"_parent\"><img src=\"https://colab.research.google.com/assets/colab-badge.svg\" alt=\"Open In Colab\"/></a>"
      ]
    },
    {
      "cell_type": "markdown",
      "metadata": {
        "id": "U8TkengEqb2j"
      },
      "source": [
        "# Limpieza y formato de datos\n",
        "En este documento, se realiza el preprocesamiento de los datos obtenidos de los documentos de incidentes georeferenciados."
      ]
    },
    {
      "cell_type": "markdown",
      "metadata": {
        "id": "uHFqouyRrHF9"
      },
      "source": [
        "Librerias"
      ]
    },
    {
      "cell_type": "code",
      "metadata": {
        "id": "Ptw7OTFUrUId"
      },
      "source": [
        "# !pip install holidays_co\n",
        "import pandas as pd\n",
        "import glob\n",
        "import numpy as np\n",
        "import re\n",
        "import matplotlib.pyplot as plt\n",
        "import matplotlib as mpl\n",
        "# import holidays_co"
      ],
      "execution_count": 78,
      "outputs": []
    },
    {
      "cell_type": "markdown",
      "metadata": {
        "id": "3SSosJrArG9u"
      },
      "source": [
        "### Lectura de datos"
      ]
    },
    {
      "cell_type": "code",
      "metadata": {
        "id": "2nneEDCAqS-4",
        "outputId": "3950ec63-fea0-490b-c0c3-af5a384f71ff",
        "colab": {
          "base_uri": "https://localhost:8080/",
          "height": 305
        }
      },
      "source": [
        "all_files = glob.glob(\"dataset/I*.csv\")\n",
        "\n",
        "li = []\n",
        "\n",
        "for filename in all_files:\n",
        "\n",
        "    frame = pd.read_csv(filename, index_col=None, header=0, low_memory=False)\n",
        "    li.append(frame)\n",
        "\n",
        "df = pd.concat(li, axis=0, ignore_index=True)\n",
        "df = df.sort_values(by=[\"FECHA\"])\n",
        "\n",
        "df.head()"
      ],
      "execution_count": 79,
      "outputs": [
        {
          "output_type": "execute_result",
          "data": {
            "text/html": [
              "<div>\n",
              "<style scoped>\n",
              "    .dataframe tbody tr th:only-of-type {\n",
              "        vertical-align: middle;\n",
              "    }\n",
              "\n",
              "    .dataframe tbody tr th {\n",
              "        vertical-align: top;\n",
              "    }\n",
              "\n",
              "    .dataframe thead th {\n",
              "        text-align: right;\n",
              "    }\n",
              "</style>\n",
              "<table border=\"1\" class=\"dataframe\">\n",
              "  <thead>\n",
              "    <tr style=\"text-align: right;\">\n",
              "      <th></th>\n",
              "      <th>X</th>\n",
              "      <th>Y</th>\n",
              "      <th>OBJECTID</th>\n",
              "      <th>RADICADO</th>\n",
              "      <th>FECHA</th>\n",
              "      <th>HORA</th>\n",
              "      <th>DIA</th>\n",
              "      <th>PERIODO</th>\n",
              "      <th>CLASE</th>\n",
              "      <th>DIRECCION</th>\n",
              "      <th>DIRECCION_ENC</th>\n",
              "      <th>CBML</th>\n",
              "      <th>TIPO_GEOCOD</th>\n",
              "      <th>GRAVEDAD</th>\n",
              "      <th>BARRIO</th>\n",
              "      <th>COMUNA</th>\n",
              "      <th>DISENO</th>\n",
              "      <th>DIA_NOMBRE</th>\n",
              "      <th>MES</th>\n",
              "      <th>MES_NOMBRE</th>\n",
              "      <th>X_MAGNAMED</th>\n",
              "      <th>Y_MAGNAMED</th>\n",
              "      <th>LONGITUD</th>\n",
              "      <th>LATITUD</th>\n",
              "    </tr>\n",
              "  </thead>\n",
              "  <tbody>\n",
              "    <tr>\n",
              "      <th>136791</th>\n",
              "      <td>-75.703816</td>\n",
              "      <td>6.221806</td>\n",
              "      <td>211342</td>\n",
              "      <td>1424116</td>\n",
              "      <td>2014/01/01 00:00:00+00</td>\n",
              "      <td>05:30:00</td>\n",
              "      <td>1</td>\n",
              "      <td>2014</td>\n",
              "      <td>Atropello</td>\n",
              "      <td>Con</td>\n",
              "      <td>000 00000</td>\n",
              "      <td>NaN</td>\n",
              "      <td>No Ubicada</td>\n",
              "      <td>HERIDO</td>\n",
              "      <td>NaN</td>\n",
              "      <td>NaN</td>\n",
              "      <td>Lote o Predio</td>\n",
              "      <td>MIÉRCOLES</td>\n",
              "      <td>1</td>\n",
              "      <td>NaN</td>\n",
              "      <td>820000.00</td>\n",
              "      <td>1180000.00</td>\n",
              "      <td>-75.703816</td>\n",
              "      <td>6.221806</td>\n",
              "    </tr>\n",
              "    <tr>\n",
              "      <th>136790</th>\n",
              "      <td>-75.579329</td>\n",
              "      <td>6.209160</td>\n",
              "      <td>211341</td>\n",
              "      <td>1424110</td>\n",
              "      <td>2014/01/01 00:00:00+00</td>\n",
              "      <td>04:20:00</td>\n",
              "      <td>1</td>\n",
              "      <td>2014</td>\n",
              "      <td>Choque</td>\n",
              "      <td>CR 50 CL 4</td>\n",
              "      <td>CR  050   004  000 00000</td>\n",
              "      <td>1507</td>\n",
              "      <td>Malla vial</td>\n",
              "      <td>HERIDO</td>\n",
              "      <td>Campo Amor</td>\n",
              "      <td>Guayabal</td>\n",
              "      <td>Tramo de via</td>\n",
              "      <td>MIÉRCOLES</td>\n",
              "      <td>1</td>\n",
              "      <td>NaN</td>\n",
              "      <td>833779.95</td>\n",
              "      <td>1178599.23</td>\n",
              "      <td>-75.579329</td>\n",
              "      <td>6.209160</td>\n",
              "    </tr>\n",
              "    <tr>\n",
              "      <th>136789</th>\n",
              "      <td>-75.565164</td>\n",
              "      <td>6.242722</td>\n",
              "      <td>211340</td>\n",
              "      <td>1424107</td>\n",
              "      <td>2014/01/01 00:00:00+00</td>\n",
              "      <td>09:10:00</td>\n",
              "      <td>1</td>\n",
              "      <td>2014</td>\n",
              "      <td>Choque</td>\n",
              "      <td>CL 44 CR 43</td>\n",
              "      <td>CL  044   043  000 00000</td>\n",
              "      <td>1013</td>\n",
              "      <td>Malla vial</td>\n",
              "      <td>HERIDO</td>\n",
              "      <td>Barrio Colón</td>\n",
              "      <td>La Candelaria</td>\n",
              "      <td>Interseccion</td>\n",
              "      <td>MIÉRCOLES</td>\n",
              "      <td>1</td>\n",
              "      <td>NaN</td>\n",
              "      <td>835348.01</td>\n",
              "      <td>1182311.63</td>\n",
              "      <td>-75.565164</td>\n",
              "      <td>6.242722</td>\n",
              "    </tr>\n",
              "    <tr>\n",
              "      <th>136788</th>\n",
              "      <td>-75.555400</td>\n",
              "      <td>6.252163</td>\n",
              "      <td>211339</td>\n",
              "      <td>1424101</td>\n",
              "      <td>2014/01/01 00:00:00+00</td>\n",
              "      <td>08:50:00</td>\n",
              "      <td>1</td>\n",
              "      <td>2014</td>\n",
              "      <td>Choque</td>\n",
              "      <td>CR 39 CL 60</td>\n",
              "      <td>CR  039   060  000 00000</td>\n",
              "      <td>0803</td>\n",
              "      <td>Malla vial</td>\n",
              "      <td>HERIDO</td>\n",
              "      <td>San Miguel</td>\n",
              "      <td>Villa Hermosa</td>\n",
              "      <td>Tramo de via</td>\n",
              "      <td>MIÉRCOLES</td>\n",
              "      <td>1</td>\n",
              "      <td>NaN</td>\n",
              "      <td>836428.72</td>\n",
              "      <td>1183355.92</td>\n",
              "      <td>-75.555400</td>\n",
              "      <td>6.252163</td>\n",
              "    </tr>\n",
              "    <tr>\n",
              "      <th>136787</th>\n",
              "      <td>-75.564683</td>\n",
              "      <td>6.249282</td>\n",
              "      <td>211338</td>\n",
              "      <td>1424096</td>\n",
              "      <td>2014/01/01 00:00:00+00</td>\n",
              "      <td>08:00:00</td>\n",
              "      <td>1</td>\n",
              "      <td>2014</td>\n",
              "      <td>Otro</td>\n",
              "      <td>CL 52 CR 46</td>\n",
              "      <td>CL  052   046  000 00000</td>\n",
              "      <td>1019</td>\n",
              "      <td>Malla vial</td>\n",
              "      <td>HERIDO</td>\n",
              "      <td>La Candelaria</td>\n",
              "      <td>La Candelaria</td>\n",
              "      <td>Tramo de via</td>\n",
              "      <td>MIÉRCOLES</td>\n",
              "      <td>1</td>\n",
              "      <td>NaN</td>\n",
              "      <td>835401.20</td>\n",
              "      <td>1183037.23</td>\n",
              "      <td>-75.564683</td>\n",
              "      <td>6.249282</td>\n",
              "    </tr>\n",
              "  </tbody>\n",
              "</table>\n",
              "</div>"
            ],
            "text/plain": [
              "                X         Y  OBJECTID RADICADO                   FECHA  \\\n",
              "136791 -75.703816  6.221806    211342  1424116  2014/01/01 00:00:00+00   \n",
              "136790 -75.579329  6.209160    211341  1424110  2014/01/01 00:00:00+00   \n",
              "136789 -75.565164  6.242722    211340  1424107  2014/01/01 00:00:00+00   \n",
              "136788 -75.555400  6.252163    211339  1424101  2014/01/01 00:00:00+00   \n",
              "136787 -75.564683  6.249282    211338  1424096  2014/01/01 00:00:00+00   \n",
              "\n",
              "            HORA  DIA  PERIODO      CLASE    DIRECCION  \\\n",
              "136791  05:30:00    1     2014  Atropello          Con   \n",
              "136790  04:20:00    1     2014     Choque   CR 50 CL 4   \n",
              "136789  09:10:00    1     2014     Choque  CL 44 CR 43   \n",
              "136788  08:50:00    1     2014     Choque  CR 39 CL 60   \n",
              "136787  08:00:00    1     2014       Otro  CL 52 CR 46   \n",
              "\n",
              "                   DIRECCION_ENC  CBML TIPO_GEOCOD GRAVEDAD         BARRIO  \\\n",
              "136791                 000 00000   NaN  No Ubicada   HERIDO            NaN   \n",
              "136790  CR  050   004  000 00000  1507  Malla vial   HERIDO     Campo Amor   \n",
              "136789  CL  044   043  000 00000  1013  Malla vial   HERIDO   Barrio Colón   \n",
              "136788  CR  039   060  000 00000  0803  Malla vial   HERIDO     San Miguel   \n",
              "136787  CL  052   046  000 00000  1019  Malla vial   HERIDO  La Candelaria   \n",
              "\n",
              "               COMUNA         DISENO DIA_NOMBRE  MES  MES_NOMBRE  X_MAGNAMED  \\\n",
              "136791            NaN  Lote o Predio  MIÉRCOLES    1         NaN   820000.00   \n",
              "136790       Guayabal   Tramo de via  MIÉRCOLES    1         NaN   833779.95   \n",
              "136789  La Candelaria   Interseccion  MIÉRCOLES    1         NaN   835348.01   \n",
              "136788  Villa Hermosa   Tramo de via  MIÉRCOLES    1         NaN   836428.72   \n",
              "136787  La Candelaria   Tramo de via  MIÉRCOLES    1         NaN   835401.20   \n",
              "\n",
              "        Y_MAGNAMED   LONGITUD   LATITUD  \n",
              "136791  1180000.00 -75.703816  6.221806  \n",
              "136790  1178599.23 -75.579329  6.209160  \n",
              "136789  1182311.63 -75.565164  6.242722  \n",
              "136788  1183355.92 -75.555400  6.252163  \n",
              "136787  1183037.23 -75.564683  6.249282  "
            ]
          },
          "metadata": {
            "tags": []
          },
          "execution_count": 79
        }
      ]
    },
    {
      "cell_type": "markdown",
      "metadata": {
        "id": "9h2e3XolzyLI"
      },
      "source": [
        "Que columnas tienen valores nulos"
      ]
    },
    {
      "cell_type": "code",
      "metadata": {
        "id": "flTOY7yNuY-i",
        "outputId": "9487e94e-e5a7-4b10-acf9-a4e7c98ae0a8",
        "colab": {
          "base_uri": "https://localhost:8080/"
        }
      },
      "source": [
        "df.isna().any()"
      ],
      "execution_count": null,
      "outputs": [
        {
          "output_type": "execute_result",
          "data": {
            "text/plain": [
              "X                False\n",
              "Y                False\n",
              "OBJECTID         False\n",
              "RADICADO          True\n",
              "FECHA            False\n",
              "HORA             False\n",
              "DIA              False\n",
              "PERIODO          False\n",
              "CLASE             True\n",
              "DIRECCION        False\n",
              "DIRECCION_ENC     True\n",
              "CBML              True\n",
              "TIPO_GEOCOD      False\n",
              "GRAVEDAD         False\n",
              "BARRIO            True\n",
              "COMUNA            True\n",
              "DISENO            True\n",
              "DIA_NOMBRE       False\n",
              "MES              False\n",
              "MES_NOMBRE        True\n",
              "X_MAGNAMED       False\n",
              "Y_MAGNAMED       False\n",
              "LONGITUD         False\n",
              "LATITUD          False\n",
              "dtype: bool"
            ]
          },
          "metadata": {
            "tags": []
          },
          "execution_count": 47
        }
      ]
    },
    {
      "cell_type": "markdown",
      "metadata": {
        "id": "-TybCmSiFa8W"
      },
      "source": [
        "Formato datos"
      ]
    },
    {
      "cell_type": "code",
      "metadata": {
        "id": "xu4dX0awz19N",
        "outputId": "2eae19a1-05f2-402c-dd1a-5322dd416a3b",
        "colab": {
          "base_uri": "https://localhost:8080/",
          "height": 201
        }
      },
      "source": [
        "#Eliminar filas con NA y columnas que no consideramos importantes para el modelo.\n",
        "#Asignar mismos nombres a los tipos de accidentes (CLASE)\n",
        "def format(df):\n",
        "  df = df.drop(['X', 'Y', 'OBJECTID', 'RADICADO', 'DIRECCION', 'DIRECCION_ENC',\n",
        "              'CBML', 'TIPO_GEOCOD', 'DISENO', 'MES_NOMBRE', 'X_MAGNAMED',\n",
        "              'Y_MAGNAMED'], axis=1)\n",
        "  df = df.dropna(subset=['CLASE', 'BARRIO', 'COMUNA'])\n",
        "\n",
        "  df[\"CLASE\"].replace({\"Caída de Ocupante\": \"Caida Ocupante\",\n",
        "                       \"Caida de Ocupante\": \"Caida Ocupante\",\n",
        "                       \"Caída Ocupante\": \"Caida Ocupante\",\n",
        "                       \"Choque \": \"Choque\"}, inplace=True)\n",
        "\n",
        "  return df\n",
        "\n",
        "df = format(df)\n",
        "df.columns = df.columns.str.lower()\n",
        "df = df.reset_index()\n",
        "df = df.drop(['index'],axis=1)\n",
        "df.head()"
      ],
      "execution_count": 80,
      "outputs": [
        {
          "output_type": "execute_result",
          "data": {
            "text/html": [
              "<div>\n",
              "<style scoped>\n",
              "    .dataframe tbody tr th:only-of-type {\n",
              "        vertical-align: middle;\n",
              "    }\n",
              "\n",
              "    .dataframe tbody tr th {\n",
              "        vertical-align: top;\n",
              "    }\n",
              "\n",
              "    .dataframe thead th {\n",
              "        text-align: right;\n",
              "    }\n",
              "</style>\n",
              "<table border=\"1\" class=\"dataframe\">\n",
              "  <thead>\n",
              "    <tr style=\"text-align: right;\">\n",
              "      <th></th>\n",
              "      <th>fecha</th>\n",
              "      <th>hora</th>\n",
              "      <th>dia</th>\n",
              "      <th>periodo</th>\n",
              "      <th>clase</th>\n",
              "      <th>gravedad</th>\n",
              "      <th>barrio</th>\n",
              "      <th>comuna</th>\n",
              "      <th>dia_nombre</th>\n",
              "      <th>mes</th>\n",
              "      <th>longitud</th>\n",
              "      <th>latitud</th>\n",
              "    </tr>\n",
              "  </thead>\n",
              "  <tbody>\n",
              "    <tr>\n",
              "      <th>0</th>\n",
              "      <td>2014/01/01 00:00:00+00</td>\n",
              "      <td>04:20:00</td>\n",
              "      <td>1</td>\n",
              "      <td>2014</td>\n",
              "      <td>Choque</td>\n",
              "      <td>HERIDO</td>\n",
              "      <td>Campo Amor</td>\n",
              "      <td>Guayabal</td>\n",
              "      <td>MIÉRCOLES</td>\n",
              "      <td>1</td>\n",
              "      <td>-75.579329</td>\n",
              "      <td>6.209160</td>\n",
              "    </tr>\n",
              "    <tr>\n",
              "      <th>1</th>\n",
              "      <td>2014/01/01 00:00:00+00</td>\n",
              "      <td>09:10:00</td>\n",
              "      <td>1</td>\n",
              "      <td>2014</td>\n",
              "      <td>Choque</td>\n",
              "      <td>HERIDO</td>\n",
              "      <td>Barrio Colón</td>\n",
              "      <td>La Candelaria</td>\n",
              "      <td>MIÉRCOLES</td>\n",
              "      <td>1</td>\n",
              "      <td>-75.565164</td>\n",
              "      <td>6.242722</td>\n",
              "    </tr>\n",
              "    <tr>\n",
              "      <th>2</th>\n",
              "      <td>2014/01/01 00:00:00+00</td>\n",
              "      <td>08:50:00</td>\n",
              "      <td>1</td>\n",
              "      <td>2014</td>\n",
              "      <td>Choque</td>\n",
              "      <td>HERIDO</td>\n",
              "      <td>San Miguel</td>\n",
              "      <td>Villa Hermosa</td>\n",
              "      <td>MIÉRCOLES</td>\n",
              "      <td>1</td>\n",
              "      <td>-75.555400</td>\n",
              "      <td>6.252163</td>\n",
              "    </tr>\n",
              "    <tr>\n",
              "      <th>3</th>\n",
              "      <td>2014/01/01 00:00:00+00</td>\n",
              "      <td>08:00:00</td>\n",
              "      <td>1</td>\n",
              "      <td>2014</td>\n",
              "      <td>Otro</td>\n",
              "      <td>HERIDO</td>\n",
              "      <td>La Candelaria</td>\n",
              "      <td>La Candelaria</td>\n",
              "      <td>MIÉRCOLES</td>\n",
              "      <td>1</td>\n",
              "      <td>-75.564683</td>\n",
              "      <td>6.249282</td>\n",
              "    </tr>\n",
              "    <tr>\n",
              "      <th>4</th>\n",
              "      <td>2014/01/01 00:00:00+00</td>\n",
              "      <td>10:00:00</td>\n",
              "      <td>1</td>\n",
              "      <td>2014</td>\n",
              "      <td>Choque</td>\n",
              "      <td>HERIDO</td>\n",
              "      <td>La Milagrosa</td>\n",
              "      <td>Buenos Aires</td>\n",
              "      <td>MIÉRCOLES</td>\n",
              "      <td>1</td>\n",
              "      <td>-75.557573</td>\n",
              "      <td>6.235498</td>\n",
              "    </tr>\n",
              "  </tbody>\n",
              "</table>\n",
              "</div>"
            ],
            "text/plain": [
              "                    fecha      hora  dia  periodo   clase gravedad  \\\n",
              "0  2014/01/01 00:00:00+00  04:20:00    1     2014  Choque   HERIDO   \n",
              "1  2014/01/01 00:00:00+00  09:10:00    1     2014  Choque   HERIDO   \n",
              "2  2014/01/01 00:00:00+00  08:50:00    1     2014  Choque   HERIDO   \n",
              "3  2014/01/01 00:00:00+00  08:00:00    1     2014    Otro   HERIDO   \n",
              "4  2014/01/01 00:00:00+00  10:00:00    1     2014  Choque   HERIDO   \n",
              "\n",
              "          barrio         comuna dia_nombre  mes   longitud   latitud  \n",
              "0     Campo Amor       Guayabal  MIÉRCOLES    1 -75.579329  6.209160  \n",
              "1   Barrio Colón  La Candelaria  MIÉRCOLES    1 -75.565164  6.242722  \n",
              "2     San Miguel  Villa Hermosa  MIÉRCOLES    1 -75.555400  6.252163  \n",
              "3  La Candelaria  La Candelaria  MIÉRCOLES    1 -75.564683  6.249282  \n",
              "4   La Milagrosa   Buenos Aires  MIÉRCOLES    1 -75.557573  6.235498  "
            ]
          },
          "metadata": {
            "tags": []
          },
          "execution_count": 80
        }
      ]
    },
    {
      "cell_type": "markdown",
      "metadata": {
        "id": "xTigA-lUQIFV"
      },
      "source": [
        "## Fechas"
      ]
    },
    {
      "cell_type": "markdown",
      "metadata": {
        "id": "ZCdT2f5hY8Xs"
      },
      "source": [
        "Primero se cambia el timpo de la comuna *fecha* por el tipo **datetime**"
      ]
    },
    {
      "cell_type": "code",
      "metadata": {
        "id": "uBHG75xMQHPv"
      },
      "source": [
        "fechas = df['fecha']\n",
        "df['fecha'] = pd.to_datetime(fechas)"
      ],
      "execution_count": 81,
      "outputs": []
    },
    {
      "cell_type": "markdown",
      "metadata": {
        "id": "qEBOyt9XZFk2"
      },
      "source": [
        "Luego se crea la columna *dia_anno* para saber a que dia del año pertenece cada fila y la columna semana donde va la semana del año\n"
      ]
    },
    {
      "cell_type": "code",
      "metadata": {
        "id": "cQX1VHWbmRSs"
      },
      "source": [
        "df['dia_anno']=df['fecha'].dt.dayofyear\n",
        "df['semana']=df['fecha'].dt.isocalendar().week"
      ],
      "execution_count": 82,
      "outputs": []
    },
    {
      "cell_type": "code",
      "metadata": {
        "id": "8yCM4v6pr66q",
        "outputId": "11a8480c-14b1-46f9-e53f-acc54fcdcb29",
        "colab": {
          "base_uri": "https://localhost:8080/",
          "height": 285
        }
      },
      "source": [
        "df.head()"
      ],
      "execution_count": 83,
      "outputs": [
        {
          "output_type": "execute_result",
          "data": {
            "text/html": [
              "<div>\n",
              "<style scoped>\n",
              "    .dataframe tbody tr th:only-of-type {\n",
              "        vertical-align: middle;\n",
              "    }\n",
              "\n",
              "    .dataframe tbody tr th {\n",
              "        vertical-align: top;\n",
              "    }\n",
              "\n",
              "    .dataframe thead th {\n",
              "        text-align: right;\n",
              "    }\n",
              "</style>\n",
              "<table border=\"1\" class=\"dataframe\">\n",
              "  <thead>\n",
              "    <tr style=\"text-align: right;\">\n",
              "      <th></th>\n",
              "      <th>fecha</th>\n",
              "      <th>hora</th>\n",
              "      <th>dia</th>\n",
              "      <th>periodo</th>\n",
              "      <th>clase</th>\n",
              "      <th>gravedad</th>\n",
              "      <th>barrio</th>\n",
              "      <th>comuna</th>\n",
              "      <th>dia_nombre</th>\n",
              "      <th>mes</th>\n",
              "      <th>longitud</th>\n",
              "      <th>latitud</th>\n",
              "      <th>dia_anno</th>\n",
              "      <th>semana</th>\n",
              "    </tr>\n",
              "  </thead>\n",
              "  <tbody>\n",
              "    <tr>\n",
              "      <th>0</th>\n",
              "      <td>2014-01-01 00:00:00+00:00</td>\n",
              "      <td>04:20:00</td>\n",
              "      <td>1</td>\n",
              "      <td>2014</td>\n",
              "      <td>Choque</td>\n",
              "      <td>HERIDO</td>\n",
              "      <td>Campo Amor</td>\n",
              "      <td>Guayabal</td>\n",
              "      <td>MIÉRCOLES</td>\n",
              "      <td>1</td>\n",
              "      <td>-75.579329</td>\n",
              "      <td>6.209160</td>\n",
              "      <td>1</td>\n",
              "      <td>1</td>\n",
              "    </tr>\n",
              "    <tr>\n",
              "      <th>1</th>\n",
              "      <td>2014-01-01 00:00:00+00:00</td>\n",
              "      <td>09:10:00</td>\n",
              "      <td>1</td>\n",
              "      <td>2014</td>\n",
              "      <td>Choque</td>\n",
              "      <td>HERIDO</td>\n",
              "      <td>Barrio Colón</td>\n",
              "      <td>La Candelaria</td>\n",
              "      <td>MIÉRCOLES</td>\n",
              "      <td>1</td>\n",
              "      <td>-75.565164</td>\n",
              "      <td>6.242722</td>\n",
              "      <td>1</td>\n",
              "      <td>1</td>\n",
              "    </tr>\n",
              "    <tr>\n",
              "      <th>2</th>\n",
              "      <td>2014-01-01 00:00:00+00:00</td>\n",
              "      <td>08:50:00</td>\n",
              "      <td>1</td>\n",
              "      <td>2014</td>\n",
              "      <td>Choque</td>\n",
              "      <td>HERIDO</td>\n",
              "      <td>San Miguel</td>\n",
              "      <td>Villa Hermosa</td>\n",
              "      <td>MIÉRCOLES</td>\n",
              "      <td>1</td>\n",
              "      <td>-75.555400</td>\n",
              "      <td>6.252163</td>\n",
              "      <td>1</td>\n",
              "      <td>1</td>\n",
              "    </tr>\n",
              "    <tr>\n",
              "      <th>3</th>\n",
              "      <td>2014-01-01 00:00:00+00:00</td>\n",
              "      <td>08:00:00</td>\n",
              "      <td>1</td>\n",
              "      <td>2014</td>\n",
              "      <td>Otro</td>\n",
              "      <td>HERIDO</td>\n",
              "      <td>La Candelaria</td>\n",
              "      <td>La Candelaria</td>\n",
              "      <td>MIÉRCOLES</td>\n",
              "      <td>1</td>\n",
              "      <td>-75.564683</td>\n",
              "      <td>6.249282</td>\n",
              "      <td>1</td>\n",
              "      <td>1</td>\n",
              "    </tr>\n",
              "    <tr>\n",
              "      <th>4</th>\n",
              "      <td>2014-01-01 00:00:00+00:00</td>\n",
              "      <td>10:00:00</td>\n",
              "      <td>1</td>\n",
              "      <td>2014</td>\n",
              "      <td>Choque</td>\n",
              "      <td>HERIDO</td>\n",
              "      <td>La Milagrosa</td>\n",
              "      <td>Buenos Aires</td>\n",
              "      <td>MIÉRCOLES</td>\n",
              "      <td>1</td>\n",
              "      <td>-75.557573</td>\n",
              "      <td>6.235498</td>\n",
              "      <td>1</td>\n",
              "      <td>1</td>\n",
              "    </tr>\n",
              "  </tbody>\n",
              "</table>\n",
              "</div>"
            ],
            "text/plain": [
              "                      fecha      hora  dia  periodo   clase gravedad  \\\n",
              "0 2014-01-01 00:00:00+00:00  04:20:00    1     2014  Choque   HERIDO   \n",
              "1 2014-01-01 00:00:00+00:00  09:10:00    1     2014  Choque   HERIDO   \n",
              "2 2014-01-01 00:00:00+00:00  08:50:00    1     2014  Choque   HERIDO   \n",
              "3 2014-01-01 00:00:00+00:00  08:00:00    1     2014    Otro   HERIDO   \n",
              "4 2014-01-01 00:00:00+00:00  10:00:00    1     2014  Choque   HERIDO   \n",
              "\n",
              "          barrio         comuna dia_nombre  mes   longitud   latitud  \\\n",
              "0     Campo Amor       Guayabal  MIÉRCOLES    1 -75.579329  6.209160   \n",
              "1   Barrio Colón  La Candelaria  MIÉRCOLES    1 -75.565164  6.242722   \n",
              "2     San Miguel  Villa Hermosa  MIÉRCOLES    1 -75.555400  6.252163   \n",
              "3  La Candelaria  La Candelaria  MIÉRCOLES    1 -75.564683  6.249282   \n",
              "4   La Milagrosa   Buenos Aires  MIÉRCOLES    1 -75.557573  6.235498   \n",
              "\n",
              "   dia_anno  semana  \n",
              "0         1       1  \n",
              "1         1       1  \n",
              "2         1       1  \n",
              "3         1       1  \n",
              "4         1       1  "
            ]
          },
          "metadata": {
            "tags": []
          },
          "execution_count": 83
        }
      ]
    },
    {
      "cell_type": "markdown",
      "metadata": {
        "id": "ZUaWrWXK8aXA"
      },
      "source": [
        "Haciendo uso de la libreria _**holidays_co**_ se creo un archivo *festivos.csv* que contiene las fechas y si la fecha es festivo o no, para hacer un join con el dataframe actual, ya que la ejecucion de esta libreria toma al rededor de 5min"
      ]
    },
    {
      "cell_type": "code",
      "metadata": {
        "id": "rS5y5X7qs9ib"
      },
      "source": [
        "# codigo empleadon holidays_co\n",
        "# def festivo(row):\n",
        "#     row['festivo'] = holidays_co.is_holiday_date(row['fecha'])\n",
        "#     return row\n",
        "# dfcopy = dfcopy.apply(festivo, axis=1)"
      ],
      "execution_count": 84,
      "outputs": []
    },
    {
      "cell_type": "code",
      "metadata": {
        "id": "jsy4XWvwJaGo"
      },
      "source": [
        "festivos = pd.read_csv('dataset/festivos.csv')\n",
        "df = df.join(festivos['festivo'])"
      ],
      "execution_count": 85,
      "outputs": []
    },
    {
      "cell_type": "markdown",
      "metadata": {
        "id": "OLMNuzP6-yfs"
      },
      "source": [
        "Filas con errores ortograficos en algunas columnas"
      ]
    },
    {
      "cell_type": "code",
      "metadata": {
        "id": "GW_NoE9x-_kW",
        "outputId": "443f30ca-da3c-4355-f109-15f3ac7f865e",
        "colab": {
          "base_uri": "https://localhost:8080/"
        }
      },
      "source": [
        "df['comuna'].drop_duplicates()"
      ],
      "execution_count": 86,
      "outputs": [
        {
          "output_type": "execute_result",
          "data": {
            "text/plain": [
              "0                                           Guayabal\n",
              "1                                      La Candelaria\n",
              "2                                      Villa Hermosa\n",
              "4                                       Buenos Aires\n",
              "5                                            Popular\n",
              "6                                           Aranjuez\n",
              "7                                            Robledo\n",
              "9                                   Laureles Estadio\n",
              "10                                   Doce de Octubre\n",
              "16                                          Manrique\n",
              "18                                             Belén\n",
              "19                                          Castilla\n",
              "43                                        El Poblado\n",
              "54             Corregimiento de San Antonio de Prado\n",
              "60                                        San Javier\n",
              "62                                        La América\n",
              "70                    Corregimiento de San Cristóbal\n",
              "132                                       Santa Cruz\n",
              "201                       Corregimiento de Altavista\n",
              "228                     Corregimiento de Santa Elena\n",
              "1393                                              In\n",
              "5905                                              AU\n",
              "13410                                             SN\n",
              "42649     Corregimiento de San Sebastián de Palmitas\n",
              "68140                                              0\n",
              "150603                              Perpetuo Socorro\n",
              "150751                                       Rosales\n",
              "151117                                Las Esmeraldas\n",
              "151127                                       Miranda\n",
              "151128                                     Guayaquil\n",
              "151142                                     San Pedro\n",
              "151221                                   El Chagualo\n",
              "151341                 Cabecera San Antonio de Prado\n",
              "151930                                       La Rosa\n",
              "152517                                  Patio Bonito\n",
              "152555                               Veinte de Julio\n",
              "152713                                 Alfonso López\n",
              "153102                                Cerro Nutibara\n",
              "153103                                Jesús Nazareno\n",
              "153104                                        Boston\n",
              "153627                                Estación Villa\n",
              "153764                            Los Conquistadores\n",
              "153831                            Campo Valdés No. 1\n",
              "154113                                       Moravia\n",
              "154286                                   Calle Nueva\n",
              "154394                                        Caribe\n",
              "154573                                     La Colina\n",
              "154574                                     Oleoducto\n",
              "154642                               Villa Guadalupe\n",
              "155123                                      Laureles\n",
              "155137                              Corazón de Jesús\n",
              "155507                                  La Alpujarra\n",
              "155911                      Universidad de Antioquia\n",
              "156678                                     El Raizal\n",
              "156679                                    Las Palmas\n",
              "157079                                      Calasanz\n",
              "157816                                   Bolivariana\n",
              "158138                            Campo Valdés No. 2\n",
              "158633                                   Las Granjas\n",
              "158984                                    Los Mangos\n",
              "159057                                        Manila\n",
              "159872                        El Nogal-Los Almendros\n",
              "159877                                   La Floresta\n",
              "160036                                Antonio Nariño\n",
              "160563                          Parque Juan Pablo II\n",
              "160564                                    Cristo Rey\n",
              "160755                                    Santa Inés\n",
              "161015                                        Fátima\n",
              "161053                                      Santa Fé\n",
              "162212                                  Suramericana\n",
              "162356                                      Naranjal\n",
              "162617                          Alejandro Echavarría\n",
              "164504                                 Florida Nueva\n",
              "164581                                       Toscana\n",
              "165539                                 Simón Bolívar\n",
              "166210                             Héctor Abad Gómez\n",
              "166315                                 Villa Carlota\n",
              "166317                    Santa María de los Ángeles\n",
              "166821                                    Las Playas\n",
              "167614                                     Altavista\n",
              "167893                                      Girardot\n",
              "167898                                  Barrio Colón\n",
              "167926                                    Campo Amor\n",
              "167998                                     Andalucía\n",
              "Name: comuna, dtype: object"
            ]
          },
          "metadata": {
            "tags": []
          },
          "execution_count": 86
        }
      ]
    },
    {
      "cell_type": "code",
      "metadata": {
        "id": "rWVwogK5FOHO",
        "outputId": "8dc918d1-e76a-4a17-a1b1-96e08835813d",
        "colab": {
          "base_uri": "https://localhost:8080/"
        }
      },
      "source": [
        "df['barrio'].drop_duplicates()"
      ],
      "execution_count": 87,
      "outputs": [
        {
          "output_type": "execute_result",
          "data": {
            "text/plain": [
              "0                                       Campo Amor\n",
              "1                                     Barrio Colón\n",
              "2                                       San Miguel\n",
              "3                                    La Candelaria\n",
              "4                                     La Milagrosa\n",
              "5                                        San Pablo\n",
              "6                                         Brasilia\n",
              "7                                      Villa Flora\n",
              "8                                       Aures No.1\n",
              "9                                    La Castellana\n",
              "10                                         Kennedy\n",
              "12                                     El Diamante\n",
              "13                                 Bello Horizonte\n",
              "14                            Alejandro Echavarría\n",
              "15                                     La Pilarica\n",
              "16                                 Versalles No. 1\n",
              "17                              Campo Valdés No. 2\n",
              "18                                    La Hondonada\n",
              "19                                         Toscana\n",
              "20                               Manrique Oriental\n",
              "21                              Campo Valdés No. 1\n",
              "22                          Manrique Central No. 2\n",
              "23                                  Estación Villa\n",
              "24                                      San Benito\n",
              "25                                     El Progreso\n",
              "26                                      San Isidro\n",
              "27                                         Rosales\n",
              "28                            Cementerio Universal\n",
              "29                       Santo Domingo Savio No. 1\n",
              "30                                      Cristo Rey\n",
              "31                                           Prado\n",
              "32                              Carlos E. Restrepo\n",
              "33                                    Buenos Aires\n",
              "34                                        Girardot\n",
              "37                                       El Raizal\n",
              "38                                         Popular\n",
              "39                                      Santa Inés\n",
              "40                          Terminal de Transporte\n",
              "43                                   Villa Carlota\n",
              "44                          U.D. Atanasio Girardot\n",
              "46                                  Barrio Caicedo\n",
              "47                                          Berlin\n",
              "48                            Doce de Octubre No.2\n",
              "49                                    Las Mercedes\n",
              "51                                  Jesús Nazareno\n",
              "52                              Loma de los Bernal\n",
              "54                   Cabecera San Antonio de Prado\n",
              "55                                     Las Granjas\n",
              "56                          Manrique Central No. 1\n",
              "57                                     Moscú No. 2\n",
              "58                                       Altavista\n",
              "59                               Altos del Poblado\n",
              "60                                         Betania\n",
              "62                             Calasanz Parte Alta\n",
              "63                                       El Rincón\n",
              "65                                 Asomadera No. 2\n",
              "66                                      Las Brisas\n",
              "67                           Francisco Antonio Zea\n",
              "68                                        El Pomar\n",
              "69                                    La Esperanza\n",
              "70                   Cabecera Urbana San Cristobal\n",
              "71                                       Guayaquil\n",
              "73                                     Aures No. 2\n",
              "74                                       San Pedro\n",
              "77                                   Tricentenario\n",
              "81                                      La Pradera\n",
              "82                                      El Poblado\n",
              "84                                   Florida Nueva\n",
              "85                                          Manila\n",
              "86                   Facultad de Minas U. Nacional\n",
              "87                                          Caribe\n",
              "88                                Barrio Cristóbal\n",
              "91                                         Córdoba\n",
              "92                                    El Velódromo\n",
              "93                                   El Compromiso\n",
              "95                                        Castilla\n",
              "96                                Perpetuo Socorro\n",
              "97                                     Villa Nueva\n",
              "98                                     El Chagualo\n",
              "100                                   Suramericana\n",
              "101                                       Naranjal\n",
              "103                                         Enciso\n",
              "104                                     La Florida\n",
              "105                                      San Diego\n",
              "107                                Los Balsos No.2\n",
              "110                                    Calle Nueva\n",
              "113                                  Bomboná No. 2\n",
              "114                                      Cucaracho\n",
              "117                                       Guayabal\n",
              "121                                        Astorga\n",
              "123                                       La Salle\n",
              "124                                   San Bernardo\n",
              "126                                          Belén\n",
              "130                                        Sevilla\n",
              "131                                        Moravia\n",
              "132                                    Moscú No. 1\n",
              "133                                       Cataluña\n",
              "134                                Jardín Botánico\n",
              "135                                 Las Lomas No.1\n",
              "142                                       Pajarito\n",
              "146                                       La Palma\n",
              "147                                 Santa Teresita\n",
              "148                             Los Conquistadores\n",
              "150                                  Alfonso López\n",
              "152                                    Los Ángeles\n",
              "155                                   La Alpujarra\n",
              "156                                       Santa Fé\n",
              "157                           San Martín de Porres\n",
              "161                                     El Estadio\n",
              "162                                       El Pinal\n",
              "167                                    Las Acacias\n",
              "168                                  Pedregal Alto\n",
              "170                                    San Joaquín\n",
              "171                                     El Corazón\n",
              "172                                     San Germán\n",
              "177                                 Cerro Nutibara\n",
              "182                                      Florencia\n",
              "184                                    Bolivariana\n",
              "187                                Barrio Colombia\n",
              "191                                        Ferrini\n",
              "195                                         Boyacá\n",
              "201                              Buga Patio Bonito\n",
              "203                           Universidad Nacional\n",
              "210                           Parque Juan Pablo II\n",
              "212                                         Boston\n",
              "213                                    La Floresta\n",
              "216                                    Los Colores\n",
              "218                                  López de Mesa\n",
              "224                                        Granada\n",
              "225                                        Robledo\n",
              "226                       Santo Domingo Savio No.1\n",
              "227                                  Las Estancias\n",
              "228                                     Las Palmas\n",
              "230                               Corazón de Jesús\n",
              "231                     Santa María de los Ángeles\n",
              "232                                     La América\n",
              "234                                         Fátima\n",
              "246                                     El Danubio\n",
              "248                                     Las Playas\n",
              "258                                      El Tesoro\n",
              "261                                   Parque Norte\n",
              "264                                    La Frontera\n",
              "266                                     Santa Cruz\n",
              "267                                       Trinidad\n",
              "271                                       Altamira\n",
              "276                                         Loreto\n",
              "278                                  Villa Hermosa\n",
              "282                                         Tejelo\n",
              "284                                San Javier No.2\n",
              "294                                    La Libertad\n",
              "296                                     Belalcázar\n",
              "301                       Universidad de Antioquia\n",
              "303                                   Campo Alegre\n",
              "304                                     El Pesebre\n",
              "305                                        La Mota\n",
              "308                            Suburbano el Tesoro\n",
              "310                                Asomadera No. 1\n",
              "311                                        Picacho\n",
              "317                                  Bomboná No. 1\n",
              "321                              Suburbano El Plan\n",
              "322                       Nueva Villa de la Iguaná\n",
              "330                                   Santa Mónica\n",
              "341                                Veinte de Julio\n",
              "349                                      La Gloria\n",
              "351                             La Esperanza No. 2\n",
              "355                                       Pedregal\n",
              "356       Facultad Veterinaria y Zootecnia U.de.A.\n",
              "362                                      Carpinelo\n",
              "364                                  La Aguacatala\n",
              "373                                        Miranda\n",
              "386                                       Laureles\n",
              "391                                      La Ladera\n",
              "394                                   Las Violetas\n",
              "398                                        La Rosa\n",
              "399                                       Palenque\n",
              "408                                  Juan Pablo II\n",
              "412                                     La Francia\n",
              "414                           B. Cerro  El Volador\n",
              "444                                           6001\n",
              "448                                     La Mansión\n",
              "463                                Los Balsos No.1\n",
              "465                           Doce de Octubre No.1\n",
              "480                              Héctor Abad Gómez\n",
              "481                                      Castropol\n",
              "485                                  Los Alcázares\n",
              "488                                 Las Esmeraldas\n",
              "491                        Playón de Los Comuneros\n",
              "495                              Villa del Socorro\n",
              "506                                       Granizal\n",
              "515                                    Santa Lucía\n",
              "516                         El Nogal-Los Almendros\n",
              "520                                    El Salvador\n",
              "531                     Santa María de Los Ángeles\n",
              "541                     Área de Expansión Pajarito\n",
              "543                                      Los Pinos\n",
              "544                                 Cuarta Brigada\n",
              "550                                         Lorena\n",
              "554                                      Picachito\n",
              "556                               Diego Echavarría\n",
              "557                                         Tenche\n",
              "559         Área de Expansión San Antonio de Prado\n",
              "584                                       Pablo VI\n",
              "590                                       Aranjuez\n",
              "593                                   Bomboná No.1\n",
              "607                           Bosques de San Pablo\n",
              "613                                Barrio de Jesús\n",
              "626                                    El Castillo\n",
              "632                                          Sucre\n",
              "654                                   Los Naranjos\n",
              "661                                      Andalucía\n",
              "696                                     Alejandría\n",
              "730                                San Javier No.1\n",
              "734                                      La Colina\n",
              "762                                         Gerona\n",
              "822                                      Oleoducto\n",
              "834                                     Llanaditas\n",
              "842                                     Villa Niza\n",
              "861                                  Simón Bolívar\n",
              "880                                      Villatina\n",
              "883                                        Palermo\n",
              "890                                        Oriente\n",
              "901                                        La Isla\n",
              "917                                      Los Alpes\n",
              "923                                     Miraflores\n",
              "925                                 Antonio Nariño\n",
              "929                           Los Cerros El Vergel\n",
              "937                                  Pedregal Bajo\n",
              "938                    Area De Expansion Altavista\n",
              "988                               El Progreso No.2\n",
              "999                       Altavista Sector Central\n",
              "1009                                    Los Mangos\n",
              "1019                         San José la Cima No.2\n",
              "1022                               Asomadera No. 3\n",
              "1023                           Bermejal-Los Alamos\n",
              "1038                                   La Avanzada\n",
              "1039                                      Calasanz\n",
              "1065                             El Diamante No. 2\n",
              "1099                                  Patio Bonito\n",
              "1149                                    El Picacho\n",
              "1198                            Las Independencias\n",
              "1236                         Centro Administrativo\n",
              "1341                                  Villa Turbay\n",
              "1345                            Trece de Noviembre\n",
              "1393                                          Inst\n",
              "1424                                 Olaya Herrera\n",
              "1486                         Nuevos Conquistadores\n",
              "1508                                Las Lomas No.2\n",
              "1553                                     Santander\n",
              "1555                              Mirador del Doce\n",
              "1574                               Piedras Blancas\n",
              "1592           Área de Expansión Altos de Calasanz\n",
              "1725                                    La Piñuela\n",
              "1767                                     El Salado\n",
              "1866                       Piedras Blancas Represa\n",
              "1991                               Villa Guadalupe\n",
              "2035                                      El Rodeo\n",
              "2250                           Suburbano Travesias\n",
              "2285                                Aldea Pablo VI\n",
              "2288                                  Villa Liliam\n",
              "2350                          El Corazon El Morro \n",
              "2389                                     Belencito\n",
              "2612                                    El Triunfo\n",
              "2662                               Plaza de Ferias\n",
              "2683                         Juan XXIII La Quiebra\n",
              "2698                                     San Lucas\n",
              "2748                                   Aguas Frias\n",
              "2830                                       Lalinde\n",
              "2903                  Hospital San Vicente de Paúl\n",
              "2906                     Santo Domingo Savio No. 2\n",
              "3367                               Versalles No. 2\n",
              "3450                                 Ocho de Marzo\n",
              "3503                            Santa Rosa de Lima\n",
              "3852                                    Blanquizal\n",
              "3936                               Santa Margarita\n",
              "4045                             Suburbano La Loma\n",
              "4247                           Suburbano Altavista\n",
              "4615                                        Berlín\n",
              "4664                         Nueva Villa de Aburrá\n",
              "4958                                    Monteclaro\n",
              "5033                             Campo Valdés No.2\n",
              "5166                                Eduardo Santos\n",
              "5580                                    El Socorro\n",
              "5905                                          AUC1\n",
              "5918                 Suburbano Mirador del Poblado\n",
              "6334                                 Villa Lilliam\n",
              "6344                                       La Cruz\n",
              "6494                         María Cano Carambolas\n",
              "6728                                   San Antonio\n",
              "7507                         Manrique Central No.1\n",
              "8035                         La Loma de Los Bernal\n",
              "8183                       Suburbano Pedregal alto\n",
              "8312                                     Miravalle\n",
              "8370                                Versalles No.1\n",
              "9035                                          AUC2\n",
              "9087                        San José la Cima No. 1\n",
              "10482                                       U.P.B.\n",
              "12381                        Suburbano Palma Patio\n",
              "12579                                      Yolombo\n",
              "13410                                   Sin Nombre\n",
              "14626                                Metropolitano\n",
              "14723                                   Media Luna\n",
              "18033                        Manrique Central No.2\n",
              "18772                                    La Verde \n",
              "22763               Area De Expansion Belen Rincon\n",
              "23311                                    La Sierra\n",
              "23446                                 Fuente Clara\n",
              "27686                             La Loma Oriental\n",
              "29549                                    Potrerito\n",
              "31557                                   Aures No.2\n",
              "32851                               Asomadera No.1\n",
              "34811                                    La Oculta\n",
              "40850                                   Moscú No.2\n",
              "42649                           Suburbano Palmitas\n",
              "49027                                    El Vergel\n",
              "59445                           Suburbano El Llano\n",
              "61382                   Piedras Blancas - Matasano\n",
              "65977                                   Moscú No.1\n",
              "68140                                            0\n",
              "68185                               Versalles No.2\n",
              "69355                             Barrios de Jesús\n",
              "71343                            Batallón Girardot\n",
              "73988                         Suburbano Chacaltaya\n",
              "107964                         B. Cerro El Volador\n",
              "135101                                Piedra Gorda\n",
              "141920                                   Travesías\n",
              "150710                                        9086\n",
              "151341       Corregimiento de San Antonio de Prado\n",
              "152555                                  San Javier\n",
              "153764                            Laureles Estadio\n",
              "156678                                    Manrique\n",
              "156679                Corregimiento de Santa Elena\n",
              "159941                    Nueva Villa de La Iguaná\n",
              "164568                         Suburbano Potrerito\n",
              "165443                      San José de la Montaña\n",
              "187718                                    El Uvito\n",
              "189008                                        7001\n",
              "189067                                        9004\n",
              "195089                            Volcana Guayabal\n",
              "201270                                     El Plan\n",
              "Name: barrio, dtype: object"
            ]
          },
          "metadata": {
            "tags": []
          },
          "execution_count": 87
        }
      ]
    },
    {
      "cell_type": "code",
      "metadata": {
        "id": "yxgZQi2L_-3E",
        "outputId": "4206bb20-f80b-4666-a792-8b07e7b54f8b",
        "colab": {
          "base_uri": "https://localhost:8080/",
          "height": 285
        }
      },
      "source": [
        "df.head()"
      ],
      "execution_count": 88,
      "outputs": [
        {
          "output_type": "execute_result",
          "data": {
            "text/html": [
              "<div>\n",
              "<style scoped>\n",
              "    .dataframe tbody tr th:only-of-type {\n",
              "        vertical-align: middle;\n",
              "    }\n",
              "\n",
              "    .dataframe tbody tr th {\n",
              "        vertical-align: top;\n",
              "    }\n",
              "\n",
              "    .dataframe thead th {\n",
              "        text-align: right;\n",
              "    }\n",
              "</style>\n",
              "<table border=\"1\" class=\"dataframe\">\n",
              "  <thead>\n",
              "    <tr style=\"text-align: right;\">\n",
              "      <th></th>\n",
              "      <th>fecha</th>\n",
              "      <th>hora</th>\n",
              "      <th>dia</th>\n",
              "      <th>periodo</th>\n",
              "      <th>clase</th>\n",
              "      <th>gravedad</th>\n",
              "      <th>barrio</th>\n",
              "      <th>comuna</th>\n",
              "      <th>dia_nombre</th>\n",
              "      <th>mes</th>\n",
              "      <th>longitud</th>\n",
              "      <th>latitud</th>\n",
              "      <th>dia_anno</th>\n",
              "      <th>semana</th>\n",
              "      <th>festivo</th>\n",
              "    </tr>\n",
              "  </thead>\n",
              "  <tbody>\n",
              "    <tr>\n",
              "      <th>0</th>\n",
              "      <td>2014-01-01 00:00:00+00:00</td>\n",
              "      <td>04:20:00</td>\n",
              "      <td>1</td>\n",
              "      <td>2014</td>\n",
              "      <td>Choque</td>\n",
              "      <td>HERIDO</td>\n",
              "      <td>Campo Amor</td>\n",
              "      <td>Guayabal</td>\n",
              "      <td>MIÉRCOLES</td>\n",
              "      <td>1</td>\n",
              "      <td>-75.579329</td>\n",
              "      <td>6.209160</td>\n",
              "      <td>1</td>\n",
              "      <td>1</td>\n",
              "      <td>True</td>\n",
              "    </tr>\n",
              "    <tr>\n",
              "      <th>1</th>\n",
              "      <td>2014-01-01 00:00:00+00:00</td>\n",
              "      <td>09:10:00</td>\n",
              "      <td>1</td>\n",
              "      <td>2014</td>\n",
              "      <td>Choque</td>\n",
              "      <td>HERIDO</td>\n",
              "      <td>Barrio Colón</td>\n",
              "      <td>La Candelaria</td>\n",
              "      <td>MIÉRCOLES</td>\n",
              "      <td>1</td>\n",
              "      <td>-75.565164</td>\n",
              "      <td>6.242722</td>\n",
              "      <td>1</td>\n",
              "      <td>1</td>\n",
              "      <td>True</td>\n",
              "    </tr>\n",
              "    <tr>\n",
              "      <th>2</th>\n",
              "      <td>2014-01-01 00:00:00+00:00</td>\n",
              "      <td>08:50:00</td>\n",
              "      <td>1</td>\n",
              "      <td>2014</td>\n",
              "      <td>Choque</td>\n",
              "      <td>HERIDO</td>\n",
              "      <td>San Miguel</td>\n",
              "      <td>Villa Hermosa</td>\n",
              "      <td>MIÉRCOLES</td>\n",
              "      <td>1</td>\n",
              "      <td>-75.555400</td>\n",
              "      <td>6.252163</td>\n",
              "      <td>1</td>\n",
              "      <td>1</td>\n",
              "      <td>True</td>\n",
              "    </tr>\n",
              "    <tr>\n",
              "      <th>3</th>\n",
              "      <td>2014-01-01 00:00:00+00:00</td>\n",
              "      <td>08:00:00</td>\n",
              "      <td>1</td>\n",
              "      <td>2014</td>\n",
              "      <td>Otro</td>\n",
              "      <td>HERIDO</td>\n",
              "      <td>La Candelaria</td>\n",
              "      <td>La Candelaria</td>\n",
              "      <td>MIÉRCOLES</td>\n",
              "      <td>1</td>\n",
              "      <td>-75.564683</td>\n",
              "      <td>6.249282</td>\n",
              "      <td>1</td>\n",
              "      <td>1</td>\n",
              "      <td>True</td>\n",
              "    </tr>\n",
              "    <tr>\n",
              "      <th>4</th>\n",
              "      <td>2014-01-01 00:00:00+00:00</td>\n",
              "      <td>10:00:00</td>\n",
              "      <td>1</td>\n",
              "      <td>2014</td>\n",
              "      <td>Choque</td>\n",
              "      <td>HERIDO</td>\n",
              "      <td>La Milagrosa</td>\n",
              "      <td>Buenos Aires</td>\n",
              "      <td>MIÉRCOLES</td>\n",
              "      <td>1</td>\n",
              "      <td>-75.557573</td>\n",
              "      <td>6.235498</td>\n",
              "      <td>1</td>\n",
              "      <td>1</td>\n",
              "      <td>True</td>\n",
              "    </tr>\n",
              "  </tbody>\n",
              "</table>\n",
              "</div>"
            ],
            "text/plain": [
              "                      fecha      hora  dia  periodo   clase gravedad  \\\n",
              "0 2014-01-01 00:00:00+00:00  04:20:00    1     2014  Choque   HERIDO   \n",
              "1 2014-01-01 00:00:00+00:00  09:10:00    1     2014  Choque   HERIDO   \n",
              "2 2014-01-01 00:00:00+00:00  08:50:00    1     2014  Choque   HERIDO   \n",
              "3 2014-01-01 00:00:00+00:00  08:00:00    1     2014    Otro   HERIDO   \n",
              "4 2014-01-01 00:00:00+00:00  10:00:00    1     2014  Choque   HERIDO   \n",
              "\n",
              "          barrio         comuna dia_nombre  mes   longitud   latitud  \\\n",
              "0     Campo Amor       Guayabal  MIÉRCOLES    1 -75.579329  6.209160   \n",
              "1   Barrio Colón  La Candelaria  MIÉRCOLES    1 -75.565164  6.242722   \n",
              "2     San Miguel  Villa Hermosa  MIÉRCOLES    1 -75.555400  6.252163   \n",
              "3  La Candelaria  La Candelaria  MIÉRCOLES    1 -75.564683  6.249282   \n",
              "4   La Milagrosa   Buenos Aires  MIÉRCOLES    1 -75.557573  6.235498   \n",
              "\n",
              "   dia_anno  semana  festivo  \n",
              "0         1       1     True  \n",
              "1         1       1     True  \n",
              "2         1       1     True  \n",
              "3         1       1     True  \n",
              "4         1       1     True  "
            ]
          },
          "metadata": {
            "tags": []
          },
          "execution_count": 88
        }
      ]
    },
    {
      "cell_type": "code",
      "metadata": {
        "id": "KweiFw8s3DQV",
        "outputId": "6e85a47a-6fd2-4724-d320-a4fa9f776eb9",
        "colab": {
          "base_uri": "https://localhost:8080/"
        }
      },
      "source": [
        "pd.set_option(\"display.max_rows\", None, \"display.max_columns\", None)\n",
        "len(df['barrio'].drop_duplicates())"
      ],
      "execution_count": 89,
      "outputs": [
        {
          "output_type": "execute_result",
          "data": {
            "text/plain": [
              "339"
            ]
          },
          "metadata": {
            "tags": []
          },
          "execution_count": 89
        }
      ]
    },
    {
      "cell_type": "markdown",
      "metadata": {
        "id": "4kgHOLzIE36J"
      },
      "source": [
        "Todos las columnas de *clase, gravedad, barrio, comuna, dia_nombre* se pasaron a miniuscula para evitar posibles inconveniesntes futuros"
      ]
    },
    {
      "cell_type": "code",
      "metadata": {
        "id": "Iqm_ZC0sC8ko"
      },
      "source": [
        "df['clase'] = df['clase'].str.lower()\n",
        "df['gravedad'] = df['gravedad'].str.lower()\n",
        "df['barrio'] = df['barrio'].str.lower()\n",
        "df['comuna'] = df['comuna'].str.lower()\n",
        "df['dia_nombre'] = df['dia_nombre'].str.lower()"
      ],
      "execution_count": 90,
      "outputs": []
    },
    {
      "cell_type": "markdown",
      "metadata": {
        "id": "mOMdU6LW5dFt"
      },
      "source": [
        "## Barrios\n"
      ]
    },
    {
      "cell_type": "markdown",
      "metadata": {
        "id": "RKAYgImiYYQT"
      },
      "source": [
        "Se eliminan las filas donde el barrio sale como un número"
      ]
    },
    {
      "cell_type": "code",
      "metadata": {
        "id": "AzhEgOFdGZbB"
      },
      "source": [
        "for barrio in df['barrio']:\n",
        "    try:\n",
        "        int(barrio)\n",
        "        df = df.replace({'barrio': barrio}, np.nan)\n",
        "    except:\n",
        "        pass\n",
        "df= df.dropna(subset=['barrio'])"
      ],
      "execution_count": 91,
      "outputs": []
    },
    {
      "cell_type": "markdown",
      "metadata": {
        "id": "Wav_FHAKx8WG"
      },
      "source": [
        "Para corregir los barrios donde salía **no. #**  para que salga **no.#**"
      ]
    },
    {
      "cell_type": "code",
      "metadata": {
        "id": "x46asBOftMsR"
      },
      "source": [
        "def error_no(row):\n",
        "    barrio = row['barrio'].strip()\n",
        "    b = bool(re.search(r'(no)\\. \\d', barrio))\n",
        "    if (b):\n",
        "        b = barrio.split()\n",
        "        barrio = ' '.join(b[0:-2])\n",
        "        barrio += ' '+b[-2]+b[-1]\n",
        "    row['barrio'] = barrio\n",
        "    return row\n",
        "df = df.apply(error_no,axis=1)"
      ],
      "execution_count": 92,
      "outputs": []
    },
    {
      "cell_type": "code",
      "metadata": {
        "id": "uvXxVRUBotdY"
      },
      "source": [
        "# Barrios con problemas\n",
        "# en Medellin se supone hay 275 barrio (segun wikipedia)\n",
        "\n",
        "# hay varios suburbanos que me parecen raros\n",
        "# el barrio 'u.p.b'\n",
        "# creo que todos los barrios que se llaman universidad algo estan mal (el de falcultad de minas existe)\n"
      ],
      "execution_count": 93,
      "outputs": []
    },
    {
      "cell_type": "code",
      "metadata": {
        "id": "Vbdmsq8T1ary"
      },
      "source": [
        "df = df.replace({'barrio':{'barrio de jesús':'barrios de jesús',\n",
        "                                   'berlin':'berlín',\n",
        "                                   'inst':np.nan,\n",
        "                                   'loma de los bernal':'la loma de los bernal',\n",
        "                                   'villa liliam':'villa lilliam'}})"
      ],
      "execution_count": 94,
      "outputs": []
    },
    {
      "cell_type": "code",
      "metadata": {
        "id": "2pENHIWjnyD2"
      },
      "source": [
        "barrios = df['barrio'].sort_values().unique()\n"
      ],
      "execution_count": 95,
      "outputs": []
    },
    {
      "cell_type": "code",
      "metadata": {
        "id": "HshYifmo4KAr",
        "outputId": "9b152e49-264d-4709-bc5c-18aeaea19ea6",
        "colab": {
          "base_uri": "https://localhost:8080/"
        }
      },
      "source": [
        "len(barrios)"
      ],
      "execution_count": 96,
      "outputs": [
        {
          "output_type": "execute_result",
          "data": {
            "text/plain": [
              "317"
            ]
          },
          "metadata": {
            "tags": []
          },
          "execution_count": 96
        }
      ]
    },
    {
      "cell_type": "markdown",
      "metadata": {
        "id": "DuFRjnJw5hEx"
      },
      "source": [
        "## Comunas"
      ]
    },
    {
      "cell_type": "code",
      "metadata": {
        "id": "oiUSuon-5j3N"
      },
      "source": [
        "# 1\tComuna 1 - Popular\n",
        "# 2\tComuna 2 - Santa Cruz\n",
        "# 3\tComuna 3 - Manrique\n",
        "# 4\tComuna 4 - Aranjuez\n",
        "# 5\tComuna 5 - Castilla\n",
        "# 6\tComuna 6 - Doce de Octubre\n",
        "# 7\tComuna 7 - Robledo\n",
        "# 8\tComuna 8 - Villa Hermosa\n",
        "# 9\tComuna 9 - Buenos Aires\n",
        "# 10 Comuna 10 - La Candelaria\n",
        "# 11 Comuna 11 - Laureles-Estadio\n",
        "# 12 Comuna 12 - La América\n",
        "# 13 Comuna 13 - San Javier\n",
        "# 14 Comuna 14 - El Poblado\n",
        "# 15 Comuna 15 - Guayabal\n",
        "# 16 Comuna 16 - Belén"
      ],
      "execution_count": 97,
      "outputs": []
    },
    {
      "cell_type": "code",
      "metadata": {
        "id": "9N_9jwDR7rW7"
      },
      "source": [
        "df = df.replace({'comuna':{ 'alejandro echavarría': 'buenos aires',\n",
        "                                    'alfonso lópez':'castilla',\n",
        "                                    'altavista':'belén',\n",
        "                                    'andalucía':'santa cruz',\n",
        "                                    'antonio nariño':'san javier',\n",
        "                                    'au':np.nan,\n",
        "                                    'barrio colón':'la candelaria',\n",
        "                                    'bolivariana':'laureles-estadio',\n",
        "                                    'boston':'la candelaria',\n",
        "                                    'cabecera san antonio de prado':'corregimiento san antorio de prado',\n",
        "                                    'calasanz':'la américa',\n",
        "                                    'calle nueva':'la candelaria',\n",
        "                                    'campo amor':'guayabal',\n",
        "                                    'campo valdés no. 1':'aranjuez',\n",
        "                                    'campo valdés no. 2':'manrique',\n",
        "                                    'caribe':'castilla',\n",
        "                                    'cerro nutibara':'belén',\n",
        "                                    'corazón de jesús':'la candelaria',\n",
        "                                    'cristo rey':'guayabal',\n",
        "                                    'el chagualo':'la candelaria',\n",
        "                                    'el nogal-los almendros':'belén',\n",
        "                                    'el raizal':'manrique',\n",
        "                                    'estación villa':'la candelaria',\n",
        "                                    'florida nueva':'laureles-estadio',\n",
        "                                    'fátima':'belén',\n",
        "                                    'girardot':'castilla',\n",
        "                                    'guayaquil':'la candelaria',\n",
        "                                    'héctor abad gómez':'castilla'}})"
      ],
      "execution_count": 98,
      "outputs": []
    },
    {
      "cell_type": "code",
      "metadata": {
        "id": "s5TfXG9n_GOs"
      },
      "source": [
        "df = df.replace({'comuna':{'in':np.nan, \n",
        "                                'jesús nazareno':'la candelaria',\n",
        "                                'la alpujarra':np.nan,\n",
        "                                'la colina':'guayabal',\n",
        "                                'la floresta':'la américa',\n",
        "                                'la rosa':'santa cruz',\n",
        "                                'las esmeraldas':'aranjuez',\n",
        "                                'las granjas':'manrique',\n",
        "                                'las palmas':'la candelaria',\n",
        "                                'las playas':'belén',\n",
        "                                'laureles':'laureles-estadio',\n",
        "                                'laureles estadio':'laureles-estadio', \n",
        "                                'los conquistadores':'laureles-estadio',\n",
        "                                'los mangos':'villa hermosa',\n",
        "                                'manila':'el poblado',\n",
        "                                'miranda':'aranjuez',\n",
        "                                'moravia':'aranjuez',\n",
        "                                'naranjal':'laureles-estadio',\n",
        "                                'oleoducto':np.nan,\n",
        "                                'parque juan pablo ii':'buenos aires',\n",
        "                                'patio bonito':'el poblado',\n",
        "                                'perpetuo socorro':'la candelaria',\n",
        "                                'rosales':'belén',\n",
        "                                'san pedro':'aranjuez',\n",
        "                                'santa fé':'guayabal',\n",
        "                                'santa inés':'manrique',\n",
        "                                'santa maría de los ángeles':'el poblado',\n",
        "                                'simón bolívar':'la américa',\n",
        "                                'sn':np.nan,\n",
        "                                'suramericana':'laureles-estadio',\n",
        "                                'toscana':'castilla',\n",
        "                                'universidad de antioquia':np.nan,\n",
        "                                'veinte de julio':'san javier',\n",
        "                                'villa carlota':'el poblado',\n",
        "                                'villa guadalupe':'popular'}})"
      ],
      "execution_count": 99,
      "outputs": []
    },
    {
      "cell_type": "code",
      "metadata": {
        "id": "6ggYAXS16CSi",
        "outputId": "71a915d3-6193-41ba-f3ab-04c203150c23",
        "colab": {
          "base_uri": "https://localhost:8080/"
        }
      },
      "source": [
        "comunas = df['comuna'].sort_values().unique()\n",
        "comunas"
      ],
      "execution_count": 100,
      "outputs": [
        {
          "output_type": "execute_result",
          "data": {
            "text/plain": [
              "array(['aranjuez', 'belén', 'buenos aires', 'castilla',\n",
              "       'corregimiento de altavista',\n",
              "       'corregimiento de san antonio de prado',\n",
              "       'corregimiento de san cristóbal',\n",
              "       'corregimiento de san sebastián de palmitas',\n",
              "       'corregimiento de santa elena',\n",
              "       'corregimiento san antorio de prado', 'doce de octubre',\n",
              "       'el poblado', 'guayabal', 'la américa', 'la candelaria',\n",
              "       'laureles-estadio', 'manrique', 'popular', 'robledo', 'san javier',\n",
              "       'santa cruz', 'villa hermosa', nan], dtype=object)"
            ]
          },
          "metadata": {
            "tags": []
          },
          "execution_count": 100
        }
      ]
    },
    {
      "cell_type": "markdown",
      "metadata": {
        "id": "DnYSCGbt1cZW"
      },
      "source": [
        "## Longitud y latitud"
      ]
    },
    {
      "cell_type": "code",
      "metadata": {
        "id": "_OlfIxGT1spF"
      },
      "source": [
        "# 1\tComuna 1 - Popular\n",
        "# 2\tComuna 2 - Santa Cruz\n",
        "# 3\tComuna 3 - Manrique\n",
        "# 4\tComuna 4 - Aranjuez\n",
        "# 5\tComuna 5 - Castilla\n",
        "# 6\tComuna 6 - Doce de Octubre\n",
        "# 7\tComuna 7 - Robledo\n",
        "# 8\tComuna 8 - Villa Hermosa\n",
        "# 9\tComuna 9 - Buenos Aires\n",
        "# 10 Comuna 10 - La Candelaria\n",
        "# 11 Comuna 11 - Laureles-Estadio\n",
        "# 12 Comuna 12 - La América\n",
        "# 13 Comuna 13 - San Javier\n",
        "# 14 Comuna 14 - El Poblado\n",
        "# 15 Comuna 15 - Guayabal\n",
        "# 16 Comuna 16 - Belén"
      ],
      "execution_count": null,
      "outputs": []
    },
    {
      "cell_type": "code",
      "metadata": {
        "id": "3dNnVgac1gjm"
      },
      "source": [
        "comuna1 = df"
      ],
      "execution_count": null,
      "outputs": []
    }
  ]
}