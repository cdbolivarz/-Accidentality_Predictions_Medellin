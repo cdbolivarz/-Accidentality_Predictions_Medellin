{
  "nbformat": 4,
  "nbformat_minor": 0,
  "metadata": {
    "colab": {
      "name": "Limpieza _y_formato.ipynb",
      "provenance": [],
      "collapsed_sections": [],
      "include_colab_link": true
    },
    "kernelspec": {
      "name": "python3",
      "display_name": "Python 3"
    }
  },
  "cells": [
    {
      "cell_type": "markdown",
      "metadata": {
        "id": "view-in-github",
        "colab_type": "text"
      },
      "source": [
        "<a href=\"https://colab.research.google.com/github/cdbolivarz/Accidentality_Predictions_Medellin/blob/master/Limpieza__y_formato.ipynb\" target=\"_parent\"><img src=\"https://colab.research.google.com/assets/colab-badge.svg\" alt=\"Open In Colab\"/></a>"
      ]
    },
    {
      "cell_type": "markdown",
      "metadata": {
        "id": "U8TkengEqb2j"
      },
      "source": [
        "# Limpieza y formato de datos\n",
        "En este documento, se realiza el preprocesamiento de los datos obtenidos de los documentos de incidentes georeferenciados."
      ]
    },
    {
      "cell_type": "markdown",
      "metadata": {
        "id": "uHFqouyRrHF9"
      },
      "source": [
        "Librerias"
      ]
    },
    {
      "cell_type": "code",
      "metadata": {
        "id": "Ptw7OTFUrUId"
      },
      "source": [
        "import pandas as pd\n",
        "import glob\n",
        "import numpy as np\n",
        "import re"
      ],
      "execution_count": 1,
      "outputs": []
    },
    {
      "cell_type": "markdown",
      "metadata": {
        "id": "3SSosJrArG9u"
      },
      "source": [
        "### Lectura de datos"
      ]
    },
    {
      "cell_type": "code",
      "metadata": {
        "id": "2nneEDCAqS-4",
        "outputId": "966dfadd-d9f1-483a-e128-6aeb1137ad37",
        "colab": {
          "base_uri": "https://localhost:8080/",
          "height": 305
        }
      },
      "source": [
        "all_files = glob.glob(\"dataset/I*.csv\")\n",
        "\n",
        "li = []\n",
        "\n",
        "for filename in all_files:\n",
        "\n",
        "    frame = pd.read_csv(filename, index_col=None, header=0, low_memory=False)\n",
        "    li.append(frame)\n",
        "\n",
        "df = pd.concat(li, axis=0, ignore_index=True)\n",
        "df = df.sort_values(by=[\"FECHA\"])\n",
        "df = df.reset_index()\n",
        "df = df.drop(['index'],axis=1)\n",
        "df.head()"
      ],
      "execution_count": 2,
      "outputs": [
        {
          "output_type": "execute_result",
          "data": {
            "text/html": [
              "<div>\n",
              "<style scoped>\n",
              "    .dataframe tbody tr th:only-of-type {\n",
              "        vertical-align: middle;\n",
              "    }\n",
              "\n",
              "    .dataframe tbody tr th {\n",
              "        vertical-align: top;\n",
              "    }\n",
              "\n",
              "    .dataframe thead th {\n",
              "        text-align: right;\n",
              "    }\n",
              "</style>\n",
              "<table border=\"1\" class=\"dataframe\">\n",
              "  <thead>\n",
              "    <tr style=\"text-align: right;\">\n",
              "      <th></th>\n",
              "      <th>X</th>\n",
              "      <th>Y</th>\n",
              "      <th>OBJECTID</th>\n",
              "      <th>RADICADO</th>\n",
              "      <th>FECHA</th>\n",
              "      <th>HORA</th>\n",
              "      <th>DIA</th>\n",
              "      <th>PERIODO</th>\n",
              "      <th>CLASE</th>\n",
              "      <th>DIRECCION</th>\n",
              "      <th>DIRECCION_ENC</th>\n",
              "      <th>CBML</th>\n",
              "      <th>TIPO_GEOCOD</th>\n",
              "      <th>GRAVEDAD</th>\n",
              "      <th>BARRIO</th>\n",
              "      <th>COMUNA</th>\n",
              "      <th>DISENO</th>\n",
              "      <th>DIA_NOMBRE</th>\n",
              "      <th>MES</th>\n",
              "      <th>MES_NOMBRE</th>\n",
              "      <th>X_MAGNAMED</th>\n",
              "      <th>Y_MAGNAMED</th>\n",
              "      <th>LONGITUD</th>\n",
              "      <th>LATITUD</th>\n",
              "    </tr>\n",
              "  </thead>\n",
              "  <tbody>\n",
              "    <tr>\n",
              "      <th>0</th>\n",
              "      <td>-75.703816</td>\n",
              "      <td>6.221806</td>\n",
              "      <td>211342</td>\n",
              "      <td>1424116</td>\n",
              "      <td>2014/01/01 00:00:00+00</td>\n",
              "      <td>05:30:00</td>\n",
              "      <td>1</td>\n",
              "      <td>2014</td>\n",
              "      <td>Atropello</td>\n",
              "      <td>Con</td>\n",
              "      <td>000 00000</td>\n",
              "      <td>NaN</td>\n",
              "      <td>No Ubicada</td>\n",
              "      <td>HERIDO</td>\n",
              "      <td>NaN</td>\n",
              "      <td>NaN</td>\n",
              "      <td>Lote o Predio</td>\n",
              "      <td>MIÉRCOLES</td>\n",
              "      <td>1</td>\n",
              "      <td>NaN</td>\n",
              "      <td>820000.00</td>\n",
              "      <td>1180000.00</td>\n",
              "      <td>-75.703816</td>\n",
              "      <td>6.221806</td>\n",
              "    </tr>\n",
              "    <tr>\n",
              "      <th>1</th>\n",
              "      <td>-75.579329</td>\n",
              "      <td>6.209160</td>\n",
              "      <td>211341</td>\n",
              "      <td>1424110</td>\n",
              "      <td>2014/01/01 00:00:00+00</td>\n",
              "      <td>04:20:00</td>\n",
              "      <td>1</td>\n",
              "      <td>2014</td>\n",
              "      <td>Choque</td>\n",
              "      <td>CR 50 CL 4</td>\n",
              "      <td>CR  050   004  000 00000</td>\n",
              "      <td>1507</td>\n",
              "      <td>Malla vial</td>\n",
              "      <td>HERIDO</td>\n",
              "      <td>Campo Amor</td>\n",
              "      <td>Guayabal</td>\n",
              "      <td>Tramo de via</td>\n",
              "      <td>MIÉRCOLES</td>\n",
              "      <td>1</td>\n",
              "      <td>NaN</td>\n",
              "      <td>833779.95</td>\n",
              "      <td>1178599.23</td>\n",
              "      <td>-75.579329</td>\n",
              "      <td>6.209160</td>\n",
              "    </tr>\n",
              "    <tr>\n",
              "      <th>2</th>\n",
              "      <td>-75.565164</td>\n",
              "      <td>6.242722</td>\n",
              "      <td>211340</td>\n",
              "      <td>1424107</td>\n",
              "      <td>2014/01/01 00:00:00+00</td>\n",
              "      <td>09:10:00</td>\n",
              "      <td>1</td>\n",
              "      <td>2014</td>\n",
              "      <td>Choque</td>\n",
              "      <td>CL 44 CR 43</td>\n",
              "      <td>CL  044   043  000 00000</td>\n",
              "      <td>1013</td>\n",
              "      <td>Malla vial</td>\n",
              "      <td>HERIDO</td>\n",
              "      <td>Barrio Colón</td>\n",
              "      <td>La Candelaria</td>\n",
              "      <td>Interseccion</td>\n",
              "      <td>MIÉRCOLES</td>\n",
              "      <td>1</td>\n",
              "      <td>NaN</td>\n",
              "      <td>835348.01</td>\n",
              "      <td>1182311.63</td>\n",
              "      <td>-75.565164</td>\n",
              "      <td>6.242722</td>\n",
              "    </tr>\n",
              "    <tr>\n",
              "      <th>3</th>\n",
              "      <td>-75.555400</td>\n",
              "      <td>6.252163</td>\n",
              "      <td>211339</td>\n",
              "      <td>1424101</td>\n",
              "      <td>2014/01/01 00:00:00+00</td>\n",
              "      <td>08:50:00</td>\n",
              "      <td>1</td>\n",
              "      <td>2014</td>\n",
              "      <td>Choque</td>\n",
              "      <td>CR 39 CL 60</td>\n",
              "      <td>CR  039   060  000 00000</td>\n",
              "      <td>0803</td>\n",
              "      <td>Malla vial</td>\n",
              "      <td>HERIDO</td>\n",
              "      <td>San Miguel</td>\n",
              "      <td>Villa Hermosa</td>\n",
              "      <td>Tramo de via</td>\n",
              "      <td>MIÉRCOLES</td>\n",
              "      <td>1</td>\n",
              "      <td>NaN</td>\n",
              "      <td>836428.72</td>\n",
              "      <td>1183355.92</td>\n",
              "      <td>-75.555400</td>\n",
              "      <td>6.252163</td>\n",
              "    </tr>\n",
              "    <tr>\n",
              "      <th>4</th>\n",
              "      <td>-75.564683</td>\n",
              "      <td>6.249282</td>\n",
              "      <td>211338</td>\n",
              "      <td>1424096</td>\n",
              "      <td>2014/01/01 00:00:00+00</td>\n",
              "      <td>08:00:00</td>\n",
              "      <td>1</td>\n",
              "      <td>2014</td>\n",
              "      <td>Otro</td>\n",
              "      <td>CL 52 CR 46</td>\n",
              "      <td>CL  052   046  000 00000</td>\n",
              "      <td>1019</td>\n",
              "      <td>Malla vial</td>\n",
              "      <td>HERIDO</td>\n",
              "      <td>La Candelaria</td>\n",
              "      <td>La Candelaria</td>\n",
              "      <td>Tramo de via</td>\n",
              "      <td>MIÉRCOLES</td>\n",
              "      <td>1</td>\n",
              "      <td>NaN</td>\n",
              "      <td>835401.20</td>\n",
              "      <td>1183037.23</td>\n",
              "      <td>-75.564683</td>\n",
              "      <td>6.249282</td>\n",
              "    </tr>\n",
              "  </tbody>\n",
              "</table>\n",
              "</div>"
            ],
            "text/plain": [
              "           X         Y  OBJECTID  ...  Y_MAGNAMED   LONGITUD   LATITUD\n",
              "0 -75.703816  6.221806    211342  ...  1180000.00 -75.703816  6.221806\n",
              "1 -75.579329  6.209160    211341  ...  1178599.23 -75.579329  6.209160\n",
              "2 -75.565164  6.242722    211340  ...  1182311.63 -75.565164  6.242722\n",
              "3 -75.555400  6.252163    211339  ...  1183355.92 -75.555400  6.252163\n",
              "4 -75.564683  6.249282    211338  ...  1183037.23 -75.564683  6.249282\n",
              "\n",
              "[5 rows x 24 columns]"
            ]
          },
          "metadata": {
            "tags": []
          },
          "execution_count": 2
        }
      ]
    },
    {
      "cell_type": "markdown",
      "metadata": {
        "id": "9h2e3XolzyLI"
      },
      "source": [
        "Que columnas tienen valores nulos"
      ]
    },
    {
      "cell_type": "code",
      "metadata": {
        "id": "flTOY7yNuY-i",
        "outputId": "d412d097-e184-48e9-84c3-bbe0bde85cf7",
        "colab": {
          "base_uri": "https://localhost:8080/"
        }
      },
      "source": [
        "df.isna().any()"
      ],
      "execution_count": 3,
      "outputs": [
        {
          "output_type": "execute_result",
          "data": {
            "text/plain": [
              "X                False\n",
              "Y                False\n",
              "OBJECTID         False\n",
              "RADICADO          True\n",
              "FECHA            False\n",
              "HORA             False\n",
              "DIA              False\n",
              "PERIODO          False\n",
              "CLASE             True\n",
              "DIRECCION        False\n",
              "DIRECCION_ENC     True\n",
              "CBML              True\n",
              "TIPO_GEOCOD      False\n",
              "GRAVEDAD         False\n",
              "BARRIO            True\n",
              "COMUNA            True\n",
              "DISENO            True\n",
              "DIA_NOMBRE       False\n",
              "MES              False\n",
              "MES_NOMBRE        True\n",
              "X_MAGNAMED       False\n",
              "Y_MAGNAMED       False\n",
              "LONGITUD         False\n",
              "LATITUD          False\n",
              "dtype: bool"
            ]
          },
          "metadata": {
            "tags": []
          },
          "execution_count": 3
        }
      ]
    },
    {
      "cell_type": "markdown",
      "metadata": {
        "id": "-TybCmSiFa8W"
      },
      "source": [
        "Formato datos"
      ]
    },
    {
      "cell_type": "code",
      "metadata": {
        "id": "xu4dX0awz19N",
        "outputId": "2d4c08e4-c2c3-4c9c-fa6d-6fde1dcf0778",
        "colab": {
          "base_uri": "https://localhost:8080/",
          "height": 201
        }
      },
      "source": [
        "#Eliminar filas con NA y columnas que no consideramos importantes para el modelo.\n",
        "#Asignar mismos nombres a los tipos de accidentes (CLASE)\n",
        "def format(df):\n",
        "  df = df.drop(['X', 'Y', 'OBJECTID', 'RADICADO', 'DIRECCION', 'DIRECCION_ENC',\n",
        "              'CBML', 'TIPO_GEOCOD', 'DISENO', 'MES_NOMBRE', 'X_MAGNAMED',\n",
        "              'Y_MAGNAMED'], axis=1)\n",
        "  df = df.dropna(subset=['CLASE', 'BARRIO', 'COMUNA'])\n",
        "\n",
        "  df[\"CLASE\"].replace({\"Caída de Ocupante\": \"Caida Ocupante\",\n",
        "                       \"Caida de Ocupante\": \"Caida Ocupante\",\n",
        "                       \"Caída Ocupante\": \"Caida Ocupante\",\n",
        "                       \"Choque \": \"Choque\"}, inplace=True)\n",
        "\n",
        "  return df\n",
        "\n",
        "df = format(df)\n",
        "df.columns = df.columns.str.lower()\n",
        "df.head()"
      ],
      "execution_count": 4,
      "outputs": [
        {
          "output_type": "execute_result",
          "data": {
            "text/html": [
              "<div>\n",
              "<style scoped>\n",
              "    .dataframe tbody tr th:only-of-type {\n",
              "        vertical-align: middle;\n",
              "    }\n",
              "\n",
              "    .dataframe tbody tr th {\n",
              "        vertical-align: top;\n",
              "    }\n",
              "\n",
              "    .dataframe thead th {\n",
              "        text-align: right;\n",
              "    }\n",
              "</style>\n",
              "<table border=\"1\" class=\"dataframe\">\n",
              "  <thead>\n",
              "    <tr style=\"text-align: right;\">\n",
              "      <th></th>\n",
              "      <th>fecha</th>\n",
              "      <th>hora</th>\n",
              "      <th>dia</th>\n",
              "      <th>periodo</th>\n",
              "      <th>clase</th>\n",
              "      <th>gravedad</th>\n",
              "      <th>barrio</th>\n",
              "      <th>comuna</th>\n",
              "      <th>dia_nombre</th>\n",
              "      <th>mes</th>\n",
              "      <th>longitud</th>\n",
              "      <th>latitud</th>\n",
              "    </tr>\n",
              "  </thead>\n",
              "  <tbody>\n",
              "    <tr>\n",
              "      <th>1</th>\n",
              "      <td>2014/01/01 00:00:00+00</td>\n",
              "      <td>04:20:00</td>\n",
              "      <td>1</td>\n",
              "      <td>2014</td>\n",
              "      <td>Choque</td>\n",
              "      <td>HERIDO</td>\n",
              "      <td>Campo Amor</td>\n",
              "      <td>Guayabal</td>\n",
              "      <td>MIÉRCOLES</td>\n",
              "      <td>1</td>\n",
              "      <td>-75.579329</td>\n",
              "      <td>6.209160</td>\n",
              "    </tr>\n",
              "    <tr>\n",
              "      <th>2</th>\n",
              "      <td>2014/01/01 00:00:00+00</td>\n",
              "      <td>09:10:00</td>\n",
              "      <td>1</td>\n",
              "      <td>2014</td>\n",
              "      <td>Choque</td>\n",
              "      <td>HERIDO</td>\n",
              "      <td>Barrio Colón</td>\n",
              "      <td>La Candelaria</td>\n",
              "      <td>MIÉRCOLES</td>\n",
              "      <td>1</td>\n",
              "      <td>-75.565164</td>\n",
              "      <td>6.242722</td>\n",
              "    </tr>\n",
              "    <tr>\n",
              "      <th>3</th>\n",
              "      <td>2014/01/01 00:00:00+00</td>\n",
              "      <td>08:50:00</td>\n",
              "      <td>1</td>\n",
              "      <td>2014</td>\n",
              "      <td>Choque</td>\n",
              "      <td>HERIDO</td>\n",
              "      <td>San Miguel</td>\n",
              "      <td>Villa Hermosa</td>\n",
              "      <td>MIÉRCOLES</td>\n",
              "      <td>1</td>\n",
              "      <td>-75.555400</td>\n",
              "      <td>6.252163</td>\n",
              "    </tr>\n",
              "    <tr>\n",
              "      <th>4</th>\n",
              "      <td>2014/01/01 00:00:00+00</td>\n",
              "      <td>08:00:00</td>\n",
              "      <td>1</td>\n",
              "      <td>2014</td>\n",
              "      <td>Otro</td>\n",
              "      <td>HERIDO</td>\n",
              "      <td>La Candelaria</td>\n",
              "      <td>La Candelaria</td>\n",
              "      <td>MIÉRCOLES</td>\n",
              "      <td>1</td>\n",
              "      <td>-75.564683</td>\n",
              "      <td>6.249282</td>\n",
              "    </tr>\n",
              "    <tr>\n",
              "      <th>5</th>\n",
              "      <td>2014/01/01 00:00:00+00</td>\n",
              "      <td>10:00:00</td>\n",
              "      <td>1</td>\n",
              "      <td>2014</td>\n",
              "      <td>Choque</td>\n",
              "      <td>HERIDO</td>\n",
              "      <td>La Milagrosa</td>\n",
              "      <td>Buenos Aires</td>\n",
              "      <td>MIÉRCOLES</td>\n",
              "      <td>1</td>\n",
              "      <td>-75.557573</td>\n",
              "      <td>6.235498</td>\n",
              "    </tr>\n",
              "  </tbody>\n",
              "</table>\n",
              "</div>"
            ],
            "text/plain": [
              "                    fecha      hora  dia  ...  mes   longitud   latitud\n",
              "1  2014/01/01 00:00:00+00  04:20:00    1  ...    1 -75.579329  6.209160\n",
              "2  2014/01/01 00:00:00+00  09:10:00    1  ...    1 -75.565164  6.242722\n",
              "3  2014/01/01 00:00:00+00  08:50:00    1  ...    1 -75.555400  6.252163\n",
              "4  2014/01/01 00:00:00+00  08:00:00    1  ...    1 -75.564683  6.249282\n",
              "5  2014/01/01 00:00:00+00  10:00:00    1  ...    1 -75.557573  6.235498\n",
              "\n",
              "[5 rows x 12 columns]"
            ]
          },
          "metadata": {
            "tags": []
          },
          "execution_count": 4
        }
      ]
    },
    {
      "cell_type": "markdown",
      "metadata": {
        "id": "OLMNuzP6-yfs"
      },
      "source": [
        "Filas con errores ortograficos en algunas columnas"
      ]
    },
    {
      "cell_type": "code",
      "metadata": {
        "id": "GW_NoE9x-_kW",
        "outputId": "e5349881-8516-4a9b-ca7d-a81cc16262f8",
        "colab": {
          "base_uri": "https://localhost:8080/"
        }
      },
      "source": [
        "df['comuna'].drop_duplicates()"
      ],
      "execution_count": 5,
      "outputs": [
        {
          "output_type": "execute_result",
          "data": {
            "text/plain": [
              "1              Guayabal\n",
              "2         La Candelaria\n",
              "3         Villa Hermosa\n",
              "5          Buenos Aires\n",
              "7               Popular\n",
              "              ...      \n",
              "184133        Altavista\n",
              "184435         Girardot\n",
              "184440     Barrio Colón\n",
              "184471       Campo Amor\n",
              "184550        Andalucía\n",
              "Name: comuna, Length: 84, dtype: object"
            ]
          },
          "metadata": {
            "tags": []
          },
          "execution_count": 5
        }
      ]
    },
    {
      "cell_type": "code",
      "metadata": {
        "id": "rWVwogK5FOHO",
        "outputId": "d597edda-6693-4da1-f2e5-b9e8dd3c4963",
        "colab": {
          "base_uri": "https://localhost:8080/"
        }
      },
      "source": [
        "df['barrio'].drop_duplicates()"
      ],
      "execution_count": 6,
      "outputs": [
        {
          "output_type": "execute_result",
          "data": {
            "text/plain": [
              "1               Campo Amor\n",
              "2             Barrio Colón\n",
              "3               San Miguel\n",
              "4            La Candelaria\n",
              "5             La Milagrosa\n",
              "                ...       \n",
              "205841            El Uvito\n",
              "207239                7001\n",
              "207307                9004\n",
              "213772    Volcana Guayabal\n",
              "220429             El Plan\n",
              "Name: barrio, Length: 339, dtype: object"
            ]
          },
          "metadata": {
            "tags": []
          },
          "execution_count": 6
        }
      ]
    },
    {
      "cell_type": "code",
      "metadata": {
        "id": "yxgZQi2L_-3E",
        "outputId": "cbef3c35-8c6d-4dc1-b451-41a065dc3a0c",
        "colab": {
          "base_uri": "https://localhost:8080/",
          "height": 201
        }
      },
      "source": [
        "df.head()"
      ],
      "execution_count": 7,
      "outputs": [
        {
          "output_type": "execute_result",
          "data": {
            "text/html": [
              "<div>\n",
              "<style scoped>\n",
              "    .dataframe tbody tr th:only-of-type {\n",
              "        vertical-align: middle;\n",
              "    }\n",
              "\n",
              "    .dataframe tbody tr th {\n",
              "        vertical-align: top;\n",
              "    }\n",
              "\n",
              "    .dataframe thead th {\n",
              "        text-align: right;\n",
              "    }\n",
              "</style>\n",
              "<table border=\"1\" class=\"dataframe\">\n",
              "  <thead>\n",
              "    <tr style=\"text-align: right;\">\n",
              "      <th></th>\n",
              "      <th>fecha</th>\n",
              "      <th>hora</th>\n",
              "      <th>dia</th>\n",
              "      <th>periodo</th>\n",
              "      <th>clase</th>\n",
              "      <th>gravedad</th>\n",
              "      <th>barrio</th>\n",
              "      <th>comuna</th>\n",
              "      <th>dia_nombre</th>\n",
              "      <th>mes</th>\n",
              "      <th>longitud</th>\n",
              "      <th>latitud</th>\n",
              "    </tr>\n",
              "  </thead>\n",
              "  <tbody>\n",
              "    <tr>\n",
              "      <th>1</th>\n",
              "      <td>2014/01/01 00:00:00+00</td>\n",
              "      <td>04:20:00</td>\n",
              "      <td>1</td>\n",
              "      <td>2014</td>\n",
              "      <td>Choque</td>\n",
              "      <td>HERIDO</td>\n",
              "      <td>Campo Amor</td>\n",
              "      <td>Guayabal</td>\n",
              "      <td>MIÉRCOLES</td>\n",
              "      <td>1</td>\n",
              "      <td>-75.579329</td>\n",
              "      <td>6.209160</td>\n",
              "    </tr>\n",
              "    <tr>\n",
              "      <th>2</th>\n",
              "      <td>2014/01/01 00:00:00+00</td>\n",
              "      <td>09:10:00</td>\n",
              "      <td>1</td>\n",
              "      <td>2014</td>\n",
              "      <td>Choque</td>\n",
              "      <td>HERIDO</td>\n",
              "      <td>Barrio Colón</td>\n",
              "      <td>La Candelaria</td>\n",
              "      <td>MIÉRCOLES</td>\n",
              "      <td>1</td>\n",
              "      <td>-75.565164</td>\n",
              "      <td>6.242722</td>\n",
              "    </tr>\n",
              "    <tr>\n",
              "      <th>3</th>\n",
              "      <td>2014/01/01 00:00:00+00</td>\n",
              "      <td>08:50:00</td>\n",
              "      <td>1</td>\n",
              "      <td>2014</td>\n",
              "      <td>Choque</td>\n",
              "      <td>HERIDO</td>\n",
              "      <td>San Miguel</td>\n",
              "      <td>Villa Hermosa</td>\n",
              "      <td>MIÉRCOLES</td>\n",
              "      <td>1</td>\n",
              "      <td>-75.555400</td>\n",
              "      <td>6.252163</td>\n",
              "    </tr>\n",
              "    <tr>\n",
              "      <th>4</th>\n",
              "      <td>2014/01/01 00:00:00+00</td>\n",
              "      <td>08:00:00</td>\n",
              "      <td>1</td>\n",
              "      <td>2014</td>\n",
              "      <td>Otro</td>\n",
              "      <td>HERIDO</td>\n",
              "      <td>La Candelaria</td>\n",
              "      <td>La Candelaria</td>\n",
              "      <td>MIÉRCOLES</td>\n",
              "      <td>1</td>\n",
              "      <td>-75.564683</td>\n",
              "      <td>6.249282</td>\n",
              "    </tr>\n",
              "    <tr>\n",
              "      <th>5</th>\n",
              "      <td>2014/01/01 00:00:00+00</td>\n",
              "      <td>10:00:00</td>\n",
              "      <td>1</td>\n",
              "      <td>2014</td>\n",
              "      <td>Choque</td>\n",
              "      <td>HERIDO</td>\n",
              "      <td>La Milagrosa</td>\n",
              "      <td>Buenos Aires</td>\n",
              "      <td>MIÉRCOLES</td>\n",
              "      <td>1</td>\n",
              "      <td>-75.557573</td>\n",
              "      <td>6.235498</td>\n",
              "    </tr>\n",
              "  </tbody>\n",
              "</table>\n",
              "</div>"
            ],
            "text/plain": [
              "                    fecha      hora  dia  ...  mes   longitud   latitud\n",
              "1  2014/01/01 00:00:00+00  04:20:00    1  ...    1 -75.579329  6.209160\n",
              "2  2014/01/01 00:00:00+00  09:10:00    1  ...    1 -75.565164  6.242722\n",
              "3  2014/01/01 00:00:00+00  08:50:00    1  ...    1 -75.555400  6.252163\n",
              "4  2014/01/01 00:00:00+00  08:00:00    1  ...    1 -75.564683  6.249282\n",
              "5  2014/01/01 00:00:00+00  10:00:00    1  ...    1 -75.557573  6.235498\n",
              "\n",
              "[5 rows x 12 columns]"
            ]
          },
          "metadata": {
            "tags": []
          },
          "execution_count": 7
        }
      ]
    },
    {
      "cell_type": "code",
      "metadata": {
        "id": "KweiFw8s3DQV",
        "outputId": "905c3ed7-2eb6-4429-d8e9-79fed7ef7ee5",
        "colab": {
          "base_uri": "https://localhost:8080/"
        }
      },
      "source": [
        "pd.set_option(\"display.max_rows\", None, \"display.max_columns\", None)\n",
        "len(df['barrio'].drop_duplicates())"
      ],
      "execution_count": 9,
      "outputs": [
        {
          "output_type": "execute_result",
          "data": {
            "text/plain": [
              "339"
            ]
          },
          "metadata": {
            "tags": []
          },
          "execution_count": 9
        }
      ]
    },
    {
      "cell_type": "markdown",
      "metadata": {
        "id": "4kgHOLzIE36J"
      },
      "source": [
        "Todos las columnas de *clase, gravedad, barrio, comuna, dia_nombre* se pasaron a miniuscula para evitar posibles inconveniesntes futuros"
      ]
    },
    {
      "cell_type": "code",
      "metadata": {
        "id": "Iqm_ZC0sC8ko"
      },
      "source": [
        "dfcopy = df.copy()\n",
        "dfcopy['clase'] = dfcopy['clase'].str.lower()\n",
        "dfcopy['gravedad'] = dfcopy['gravedad'].str.lower()\n",
        "dfcopy['barrio'] = dfcopy['barrio'].str.lower()\n",
        "dfcopy['comuna'] = dfcopy['comuna'].str.lower()\n",
        "dfcopy['dia_nombre'] = dfcopy['dia_nombre'].str.lower()"
      ],
      "execution_count": 10,
      "outputs": []
    },
    {
      "cell_type": "markdown",
      "metadata": {
        "id": "mOMdU6LW5dFt"
      },
      "source": [
        "## Barrios\n"
      ]
    },
    {
      "cell_type": "markdown",
      "metadata": {
        "id": "RKAYgImiYYQT"
      },
      "source": [
        "Se eliminan las filas donde el barrio sale como un número"
      ]
    },
    {
      "cell_type": "code",
      "metadata": {
        "id": "AzhEgOFdGZbB"
      },
      "source": [
        "for barrio in dfcopy['barrio']:\n",
        "    try:\n",
        "        int(barrio)\n",
        "        dfcopy = dfcopy.replace({'barrio': barrio}, np.nan)\n",
        "    except:\n",
        "        pass\n",
        "dfcopy= dfcopy.dropna(subset=['barrio'])"
      ],
      "execution_count": 11,
      "outputs": []
    },
    {
      "cell_type": "markdown",
      "metadata": {
        "id": "Wav_FHAKx8WG"
      },
      "source": [
        "Para corregir los barrios donde salía **no. #**  para que salga **no.#**"
      ]
    },
    {
      "cell_type": "code",
      "metadata": {
        "id": "x46asBOftMsR"
      },
      "source": [
        "def error_no(row):\n",
        "    barrio = row['barrio'].strip()\n",
        "    b = bool(re.search(r'(no)\\. \\d', barrio))\n",
        "    if (b):\n",
        "        b = barrio.split()\n",
        "        barrio = ' '.join(b[0:-2])\n",
        "        barrio += ' '+b[-2]+b[-1]\n",
        "    row['barrio'] = barrio\n",
        "    return row\n",
        "dfcopy = dfcopy.apply(error_no,axis=1)"
      ],
      "execution_count": 12,
      "outputs": []
    },
    {
      "cell_type": "code",
      "metadata": {
        "id": "uvXxVRUBotdY"
      },
      "source": [
        "# Barrios con problemas\n",
        "# en Medellin se supone hay 275 barrio (segun wikipedia)\n",
        "\n",
        "# hay varios suburbanos que me parecen raros\n",
        "# el barrio 'u.p.b'\n",
        "# creo que todos los barrios que se llaman universidad algo estan mal (el de falcultad de minas existe)\n"
      ],
      "execution_count": 13,
      "outputs": []
    },
    {
      "cell_type": "code",
      "metadata": {
        "id": "Vbdmsq8T1ary"
      },
      "source": [
        "dfcopy = dfcopy.replace({'barrio':{'barrio de jesús':'barrios de jesús',\n",
        "                                   'berlin':'berlín',\n",
        "                                   'inst':np.nan,\n",
        "                                   'loma de los bernal':'la loma de los bernal',\n",
        "                                   'villa liliam':'villa lilliam'}})"
      ],
      "execution_count": 14,
      "outputs": []
    },
    {
      "cell_type": "code",
      "metadata": {
        "id": "2pENHIWjnyD2",
        "outputId": "dd6f11af-ab79-4be7-d2ec-318f98578365",
        "colab": {
          "base_uri": "https://localhost:8080/"
        }
      },
      "source": [
        "barrios = dfcopy['barrio'].sort_values().unique()\n",
        "barrios"
      ],
      "execution_count": 15,
      "outputs": [
        {
          "output_type": "execute_result",
          "data": {
            "text/plain": [
              "array(['aguas frias', 'aldea pablo vi', 'alejandro echavarría',\n",
              "       'alejandría', 'alfonso lópez', 'altamira', 'altavista',\n",
              "       'altavista sector central', 'altos del poblado', 'andalucía',\n",
              "       'antonio nariño', 'aranjuez', 'area de expansion altavista',\n",
              "       'area de expansion belen rincon', 'asomadera no.1',\n",
              "       'asomadera no.2', 'asomadera no.3', 'astorga', 'auc1', 'auc2',\n",
              "       'aures no.1', 'aures no.2', 'b. cerro  el volador',\n",
              "       'b. cerro el volador', 'barrio caicedo', 'barrio colombia',\n",
              "       'barrio colón', 'barrio cristóbal', 'barrios de jesús',\n",
              "       'batallón girardot', 'belalcázar', 'belencito', 'bello horizonte',\n",
              "       'belén', 'berlín', 'bermejal-los alamos', 'betania', 'blanquizal',\n",
              "       'bolivariana', 'bomboná no.1', 'bomboná no.2',\n",
              "       'bosques de san pablo', 'boston', 'boyacá', 'brasilia',\n",
              "       'buenos aires', 'buga patio bonito',\n",
              "       'cabecera san antonio de prado', 'cabecera urbana san cristobal',\n",
              "       'calasanz', 'calasanz parte alta', 'calle nueva', 'campo alegre',\n",
              "       'campo amor', 'campo valdés no.1', 'campo valdés no.2', 'caribe',\n",
              "       'carlos e. restrepo', 'carpinelo', 'castilla', 'castropol',\n",
              "       'cataluña', 'cementerio universal', 'centro administrativo',\n",
              "       'cerro nutibara', 'corazón de jesús',\n",
              "       'corregimiento de san antonio de prado',\n",
              "       'corregimiento de santa elena', 'cristo rey', 'cuarta brigada',\n",
              "       'cucaracho', 'córdoba', 'diego echavarría', 'doce de octubre no.1',\n",
              "       'doce de octubre no.2', 'eduardo santos', 'el castillo',\n",
              "       'el chagualo', 'el compromiso', 'el corazon el morro',\n",
              "       'el corazón', 'el danubio', 'el diamante', 'el diamante no.2',\n",
              "       'el estadio', 'el nogal-los almendros', 'el pesebre', 'el picacho',\n",
              "       'el pinal', 'el plan', 'el poblado', 'el pomar', 'el progreso',\n",
              "       'el progreso no.2', 'el raizal', 'el rincón', 'el rodeo',\n",
              "       'el salado', 'el salvador', 'el socorro', 'el tesoro',\n",
              "       'el triunfo', 'el uvito', 'el velódromo', 'el vergel', 'enciso',\n",
              "       'estación villa', 'facultad de minas u. nacional',\n",
              "       'facultad veterinaria y zootecnia u.de.a.', 'ferrini', 'florencia',\n",
              "       'florida nueva', 'francisco antonio zea', 'fuente clara', 'fátima',\n",
              "       'gerona', 'girardot', 'granada', 'granizal', 'guayabal',\n",
              "       'guayaquil', 'hospital san vicente de paúl', 'héctor abad gómez',\n",
              "       'jardín botánico', 'jesús nazareno', 'juan pablo ii',\n",
              "       'juan xxiii la quiebra', 'kennedy', 'la aguacatala',\n",
              "       'la alpujarra', 'la américa', 'la avanzada', 'la candelaria',\n",
              "       'la castellana', 'la colina', 'la cruz', 'la esperanza',\n",
              "       'la esperanza no.2', 'la floresta', 'la florida', 'la francia',\n",
              "       'la frontera', 'la gloria', 'la hondonada', 'la isla', 'la ladera',\n",
              "       'la libertad', 'la loma de los bernal', 'la loma oriental',\n",
              "       'la mansión', 'la milagrosa', 'la mota', 'la oculta', 'la palma',\n",
              "       'la pilarica', 'la piñuela', 'la pradera', 'la rosa', 'la salle',\n",
              "       'la sierra', 'la verde', 'lalinde', 'las acacias', 'las brisas',\n",
              "       'las esmeraldas', 'las estancias', 'las granjas',\n",
              "       'las independencias', 'las lomas no.1', 'las lomas no.2',\n",
              "       'las mercedes', 'las palmas', 'las playas', 'las violetas',\n",
              "       'laureles', 'laureles estadio', 'llanaditas', 'lorena', 'loreto',\n",
              "       'los alcázares', 'los alpes', 'los balsos no.1', 'los balsos no.2',\n",
              "       'los cerros el vergel', 'los colores', 'los conquistadores',\n",
              "       'los mangos', 'los naranjos', 'los pinos', 'los ángeles',\n",
              "       'lópez de mesa', 'manila', 'manrique', 'manrique central no.1',\n",
              "       'manrique central no.2', 'manrique oriental',\n",
              "       'maría cano carambolas', 'media luna', 'metropolitano',\n",
              "       'mirador del doce', 'miraflores', 'miranda', 'miravalle',\n",
              "       'monteclaro', 'moravia', 'moscú no.1', 'moscú no.2', 'naranjal',\n",
              "       'nueva villa de aburrá', 'nueva villa de la iguaná',\n",
              "       'nuevos conquistadores', 'ocho de marzo', 'olaya herrera',\n",
              "       'oleoducto', 'oriente', 'pablo vi', 'pajarito', 'palenque',\n",
              "       'palermo', 'parque juan pablo ii', 'parque norte', 'patio bonito',\n",
              "       'pedregal', 'pedregal alto', 'pedregal bajo', 'perpetuo socorro',\n",
              "       'picachito', 'picacho', 'piedra gorda', 'piedras blancas',\n",
              "       'piedras blancas - matasano', 'piedras blancas represa',\n",
              "       'playón de los comuneros', 'plaza de ferias', 'popular',\n",
              "       'potrerito', 'prado', 'robledo', 'rosales', 'san antonio',\n",
              "       'san benito', 'san bernardo', 'san diego', 'san germán',\n",
              "       'san isidro', 'san javier', 'san javier no.1', 'san javier no.2',\n",
              "       'san joaquín', 'san josé de la montaña', 'san josé la cima no.1',\n",
              "       'san josé la cima no.2', 'san lucas', 'san martín de porres',\n",
              "       'san miguel', 'san pablo', 'san pedro', 'santa cruz', 'santa fé',\n",
              "       'santa inés', 'santa lucía', 'santa margarita',\n",
              "       'santa maría de los ángeles', 'santa mónica', 'santa rosa de lima',\n",
              "       'santa teresita', 'santander', 'santo domingo savio no.1',\n",
              "       'santo domingo savio no.2', 'sevilla', 'simón bolívar',\n",
              "       'sin nombre', 'suburbano altavista', 'suburbano chacaltaya',\n",
              "       'suburbano el llano', 'suburbano el plan', 'suburbano el tesoro',\n",
              "       'suburbano la loma', 'suburbano mirador del poblado',\n",
              "       'suburbano palma patio', 'suburbano palmitas',\n",
              "       'suburbano pedregal alto', 'suburbano potrerito',\n",
              "       'suburbano travesias', 'sucre', 'suramericana', 'tejelo', 'tenche',\n",
              "       'terminal de transporte', 'toscana', 'travesías',\n",
              "       'trece de noviembre', 'tricentenario', 'trinidad',\n",
              "       'u.d. atanasio girardot', 'u.p.b.', 'universidad de antioquia',\n",
              "       'universidad nacional', 'veinte de julio', 'versalles no.1',\n",
              "       'versalles no.2', 'villa carlota', 'villa del socorro',\n",
              "       'villa flora', 'villa guadalupe', 'villa hermosa', 'villa lilliam',\n",
              "       'villa niza', 'villa nueva', 'villa turbay', 'villatina',\n",
              "       'volcana guayabal', 'yolombo',\n",
              "       'área de expansión altos de calasanz',\n",
              "       'área de expansión pajarito',\n",
              "       'área de expansión san antonio de prado', nan], dtype=object)"
            ]
          },
          "metadata": {
            "tags": []
          },
          "execution_count": 15
        }
      ]
    },
    {
      "cell_type": "code",
      "metadata": {
        "id": "HshYifmo4KAr",
        "outputId": "e9171393-807e-40b2-f229-0505a29b00a7",
        "colab": {
          "base_uri": "https://localhost:8080/"
        }
      },
      "source": [
        "len(barrios)"
      ],
      "execution_count": 16,
      "outputs": [
        {
          "output_type": "execute_result",
          "data": {
            "text/plain": [
              "317"
            ]
          },
          "metadata": {
            "tags": []
          },
          "execution_count": 16
        }
      ]
    },
    {
      "cell_type": "markdown",
      "metadata": {
        "id": "DuFRjnJw5hEx"
      },
      "source": [
        "## Comunas"
      ]
    },
    {
      "cell_type": "code",
      "metadata": {
        "id": "oiUSuon-5j3N"
      },
      "source": [
        "# 1\tComuna 1 - Popular\n",
        "# 2\tComuna 2 - Santa Cruz\n",
        "# 3\tComuna 3 - Manrique\n",
        "# 4\tComuna 4 - Aranjuez\n",
        "# 5\tComuna 5 - Castilla\n",
        "# 6\tComuna 6 - Doce de Octubre\n",
        "# 7\tComuna 7 - Robledo\n",
        "# 8\tComuna 8 - Villa Hermosa\n",
        "# 9\tComuna 9 - Buenos Aires\n",
        "# 10\tComuna 10 - La Candelaria\n",
        "# 11\tComuna 11 - Laureles-Estadio\n",
        "# 12\tComuna 12 - La América\n",
        "# 13\tComuna 13 - San Javier\n",
        "# 14\tComuna 14 - El Poblado\n",
        "# 15\tComuna 15 - Guayabal\n",
        "# 16\tComuna 16 - Belén"
      ],
      "execution_count": 17,
      "outputs": []
    },
    {
      "cell_type": "code",
      "metadata": {
        "id": "9N_9jwDR7rW7"
      },
      "source": [
        "dfcopy = dfcopy.replace({'comuna':{ 'alejandro echavarría': 'buenos aires',\n",
        "                                    'alfonso lópez':'castilla',\n",
        "                                    'altavista':'belén',\n",
        "                                    'andalucía':'santa cruz',\n",
        "                                    'antonio nariño':'san javier',\n",
        "                                    'au':np.nan,\n",
        "                                    'barrio colón':'la candelaria',\n",
        "                                    'bolivariana':'laureles-estadio',\n",
        "                                    'boston':'la candelaria',\n",
        "                                    'cabecera san antonio de prado':'corregimiento san antorio de prado',\n",
        "                                    'calasanz':'la américa',\n",
        "                                    'calle nueva':'la candelaria',\n",
        "                                    'campo amor':'guayabal',\n",
        "                                    'campo valdés no. 1':'aranjuez',\n",
        "                                    'campo valdés no. 2':'manrique',\n",
        "                                    'caribe':'castilla',\n",
        "                                    'cerro nutibara':'belén',\n",
        "                                    'corazón de jesús':'la candelaria',\n",
        "                                    'cristo rey':'guayabal',\n",
        "                                    'el chagualo':'la candelaria',\n",
        "                                    'el nogal-los almendros':'belén',\n",
        "                                    'el raizal':'manrique',\n",
        "                                    'estación villa':'la candelaria',\n",
        "                                    'florida nueva':'laureles-estadio',\n",
        "                                    'fátima':'belén',\n",
        "                                    'girardot':'castilla',\n",
        "                                    'guayaquil':'la candelaria',\n",
        "                                    'héctor abad gómez':'castilla'}})"
      ],
      "execution_count": 18,
      "outputs": []
    },
    {
      "cell_type": "code",
      "metadata": {
        "id": "s5TfXG9n_GOs"
      },
      "source": [
        "dfcopy = dfcopy.replace({'comuna':{'in':np.nan, \n",
        "                                'jesús nazareno':'la candelaria',\n",
        "                                'la alpujarra':np.nan,\n",
        "                                'la colina':'guayabal',\n",
        "                                'la floresta':'la américa',\n",
        "                                'la rosa':'santa cruz',\n",
        "                                'las esmeraldas':'aranjuez',\n",
        "                                'las granjas':'manrique',\n",
        "                                'las palmas':'la candelaria',\n",
        "                                'las playas':'belén',\n",
        "                                'laureles':'laureles-estadio',\n",
        "                                'laureles estadio':'laureles-estadio', \n",
        "                                'los conquistadores':'laureles-estadio',\n",
        "                                'los mangos':'villa hermosa',\n",
        "                                'manila':'el poblado',\n",
        "                                'miranda':'aranjuez',\n",
        "                                'moravia':'aranjuez',\n",
        "                                'naranjal':'laureles-estadio',\n",
        "                                'oleoducto':np.nan,\n",
        "                                'parque juan pablo ii':'buenos aires',\n",
        "                                'patio bonito':'el poblado',\n",
        "                                'perpetuo socorro':'la candelaria',\n",
        "                                'rosales':'belén',\n",
        "                                'san pedro':'aranjuez',\n",
        "                                'santa fé':'guayabal',\n",
        "                                'santa inés':'manrique',\n",
        "                                'santa maría de los ángeles':'el poblado',\n",
        "                                'simón bolívar':'la américa',\n",
        "                                'sn':np.nan,\n",
        "                                'suramericana':'laureles-estadio',\n",
        "                                'toscana':'castilla',\n",
        "                                'universidad de antioquia':np.nan,\n",
        "                                'veinte de julio':'san javier',\n",
        "                                'villa carlota':'el poblado',\n",
        "                                'villa guadalupe':'popular'}})"
      ],
      "execution_count": 19,
      "outputs": []
    },
    {
      "cell_type": "code",
      "metadata": {
        "id": "6ggYAXS16CSi",
        "outputId": "f2578a4f-cf67-4260-f1a5-0b5acf3975ed",
        "colab": {
          "base_uri": "https://localhost:8080/"
        }
      },
      "source": [
        "comunas = dfcopy['comuna'].sort_values().unique()\n",
        "comunas"
      ],
      "execution_count": 20,
      "outputs": [
        {
          "output_type": "execute_result",
          "data": {
            "text/plain": [
              "array(['aranjuez', 'belén', 'buenos aires', 'castilla',\n",
              "       'corregimiento de altavista',\n",
              "       'corregimiento de san antonio de prado',\n",
              "       'corregimiento de san cristóbal',\n",
              "       'corregimiento de san sebastián de palmitas',\n",
              "       'corregimiento de santa elena',\n",
              "       'corregimiento san antorio de prado', 'doce de octubre',\n",
              "       'el poblado', 'guayabal', 'la américa', 'la candelaria',\n",
              "       'laureles-estadio', 'manrique', 'popular', 'robledo', 'san javier',\n",
              "       'santa cruz', 'villa hermosa', nan], dtype=object)"
            ]
          },
          "metadata": {
            "tags": []
          },
          "execution_count": 20
        }
      ]
    },
    {
      "cell_type": "markdown",
      "metadata": {
        "id": "xTigA-lUQIFV"
      },
      "source": [
        "## Fechas"
      ]
    },
    {
      "cell_type": "markdown",
      "metadata": {
        "id": "ZCdT2f5hY8Xs"
      },
      "source": [
        "Primero se cambia el timpo de la comuna *fecha* por el tipo **datetime**"
      ]
    },
    {
      "cell_type": "code",
      "metadata": {
        "id": "uBHG75xMQHPv"
      },
      "source": [
        "fechas = df['fecha']\n",
        "dfcopy['fecha'] = pd.to_datetime(fechas)"
      ],
      "execution_count": 21,
      "outputs": []
    },
    {
      "cell_type": "markdown",
      "metadata": {
        "id": "qEBOyt9XZFk2"
      },
      "source": [
        "Luego se crea la columna *dia_anno* para saber a que dia del año pertenece cada fila"
      ]
    },
    {
      "cell_type": "code",
      "metadata": {
        "id": "vKAV95YTSnOD"
      },
      "source": [
        "def dia_anno(row):\n",
        "    row['dia_anno'] = row['fecha'].dayofyear\n",
        "    return row\n",
        "dfcopy = dfcopy.apply(dia_anno, axis=1)\n"
      ],
      "execution_count": 22,
      "outputs": []
    }
  ]
}