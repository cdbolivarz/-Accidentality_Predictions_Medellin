{
  "nbformat": 4,
  "nbformat_minor": 0,
  "metadata": {
    "colab": {
      "name": "Limpieza _y_formato.ipynb",
      "provenance": [],
      "collapsed_sections": [],
      "include_colab_link": true
    },
    "kernelspec": {
      "name": "python3",
      "display_name": "Python 3"
    }
  },
  "cells": [
    {
      "cell_type": "markdown",
      "metadata": {
        "id": "view-in-github",
        "colab_type": "text"
      },
      "source": [
        "<a href=\"https://colab.research.google.com/github/cdbolivarz/Accidentality_Predictions_Medellin/blob/master/Limpieza__y_formato.ipynb\" target=\"_parent\"><img src=\"https://colab.research.google.com/assets/colab-badge.svg\" alt=\"Open In Colab\"/></a>"
      ]
    },
    {
      "cell_type": "markdown",
      "metadata": {
        "id": "U8TkengEqb2j"
      },
      "source": [
        "# Limpieza y formato de datos\n",
        "En este documento, se realiza el preprocesamiento de los datos obtenidos de los documentos de incidentes georeferenciados."
      ]
    },
    {
      "cell_type": "markdown",
      "metadata": {
        "id": "uHFqouyRrHF9"
      },
      "source": [
        "Librerias"
      ]
    },
    {
      "cell_type": "code",
      "metadata": {
        "id": "Ptw7OTFUrUId"
      },
      "source": [
        "import pandas as pd\n",
        "import glob\n",
        "import numpy as np\n",
        "import re"
      ],
      "execution_count": 1,
      "outputs": []
    },
    {
      "cell_type": "markdown",
      "metadata": {
        "id": "3SSosJrArG9u"
      },
      "source": [
        "### Lectura de datos"
      ]
    },
    {
      "cell_type": "code",
      "metadata": {
        "id": "2nneEDCAqS-4",
        "outputId": "0ee16f0b-a8dd-4626-889b-f4cdfcf87ba4",
        "colab": {
          "base_uri": "https://localhost:8080/",
          "height": 322
        }
      },
      "source": [
        "all_files = glob.glob(\"dataset/I*.csv\")\n",
        "\n",
        "li = []\n",
        "\n",
        "for filename in all_files:\n",
        "    frame = pd.read_csv(filename, index_col=None, header=0, low_memory=False)\n",
        "    li.append(frame)\n",
        "\n",
        "df = pd.concat(li, axis=0, ignore_index=True)\n",
        "df = df.sort_values(by=[\"FECHA\"])\n",
        "df.tail()"
      ],
      "execution_count": 2,
      "outputs": [
        {
          "output_type": "execute_result",
          "data": {
            "text/html": [
              "<div>\n",
              "<style scoped>\n",
              "    .dataframe tbody tr th:only-of-type {\n",
              "        vertical-align: middle;\n",
              "    }\n",
              "\n",
              "    .dataframe tbody tr th {\n",
              "        vertical-align: top;\n",
              "    }\n",
              "\n",
              "    .dataframe thead th {\n",
              "        text-align: right;\n",
              "    }\n",
              "</style>\n",
              "<table border=\"1\" class=\"dataframe\">\n",
              "  <thead>\n",
              "    <tr style=\"text-align: right;\">\n",
              "      <th></th>\n",
              "      <th>X</th>\n",
              "      <th>Y</th>\n",
              "      <th>OBJECTID</th>\n",
              "      <th>RADICADO</th>\n",
              "      <th>FECHA</th>\n",
              "      <th>HORA</th>\n",
              "      <th>DIA</th>\n",
              "      <th>PERIODO</th>\n",
              "      <th>CLASE</th>\n",
              "      <th>DIRECCION</th>\n",
              "      <th>DIRECCION_ENC</th>\n",
              "      <th>CBML</th>\n",
              "      <th>TIPO_GEOCOD</th>\n",
              "      <th>GRAVEDAD</th>\n",
              "      <th>BARRIO</th>\n",
              "      <th>COMUNA</th>\n",
              "      <th>DISENO</th>\n",
              "      <th>DIA_NOMBRE</th>\n",
              "      <th>MES</th>\n",
              "      <th>MES_NOMBRE</th>\n",
              "      <th>X_MAGNAMED</th>\n",
              "      <th>Y_MAGNAMED</th>\n",
              "      <th>LONGITUD</th>\n",
              "      <th>LATITUD</th>\n",
              "    </tr>\n",
              "  </thead>\n",
              "  <tbody>\n",
              "    <tr>\n",
              "      <th>86230</th>\n",
              "      <td>-75.572551</td>\n",
              "      <td>6.265264</td>\n",
              "      <td>682514</td>\n",
              "      <td>1.6551e+06</td>\n",
              "      <td>2018/12/31 00:00:00+00</td>\n",
              "      <td>05:10:00</td>\n",
              "      <td>31</td>\n",
              "      <td>2018</td>\n",
              "      <td>Caida Ocupante</td>\n",
              "      <td>CR 64 CL 67</td>\n",
              "      <td>CR  064   067  000 00000</td>\n",
              "      <td>0517</td>\n",
              "      <td>Malla vial</td>\n",
              "      <td>HERIDO</td>\n",
              "      <td>Caribe</td>\n",
              "      <td>Castilla</td>\n",
              "      <td>Tramo de via</td>\n",
              "      <td>LUNES</td>\n",
              "      <td>12</td>\n",
              "      <td>NaN</td>\n",
              "      <td>834530.37</td>\n",
              "      <td>1184805.04</td>\n",
              "      <td>-75.572551</td>\n",
              "      <td>6.265264</td>\n",
              "    </tr>\n",
              "    <tr>\n",
              "      <th>86231</th>\n",
              "      <td>-75.703816</td>\n",
              "      <td>6.221806</td>\n",
              "      <td>682515</td>\n",
              "      <td>1.6551e+06</td>\n",
              "      <td>2018/12/31 00:00:00+00</td>\n",
              "      <td>05:40:00</td>\n",
              "      <td>31</td>\n",
              "      <td>2018</td>\n",
              "      <td>Otro</td>\n",
              "      <td>CR 63 CL 91</td>\n",
              "      <td>CR  063   091  000 00000</td>\n",
              "      <td>NaN</td>\n",
              "      <td>No Ubicada</td>\n",
              "      <td>HERIDO</td>\n",
              "      <td>NaN</td>\n",
              "      <td>NaN</td>\n",
              "      <td>Tramo de via</td>\n",
              "      <td>LUNES</td>\n",
              "      <td>12</td>\n",
              "      <td>NaN</td>\n",
              "      <td>820000.00</td>\n",
              "      <td>1180000.00</td>\n",
              "      <td>-75.703816</td>\n",
              "      <td>6.221806</td>\n",
              "    </tr>\n",
              "    <tr>\n",
              "      <th>86232</th>\n",
              "      <td>-75.606045</td>\n",
              "      <td>6.258454</td>\n",
              "      <td>682516</td>\n",
              "      <td>1.65542e+06</td>\n",
              "      <td>2018/12/31 00:00:00+00</td>\n",
              "      <td>06:05:00</td>\n",
              "      <td>31</td>\n",
              "      <td>2018</td>\n",
              "      <td>Choque</td>\n",
              "      <td>CL 47 F CR 89 A</td>\n",
              "      <td>CL  047 F   089 A  000 00000</td>\n",
              "      <td>1206</td>\n",
              "      <td>Malla vial</td>\n",
              "      <td>SOLO DAÑOS</td>\n",
              "      <td>Santa Lucía</td>\n",
              "      <td>La América</td>\n",
              "      <td>Interseccion</td>\n",
              "      <td>LUNES</td>\n",
              "      <td>12</td>\n",
              "      <td>NaN</td>\n",
              "      <td>830822.95</td>\n",
              "      <td>1184052.00</td>\n",
              "      <td>-75.606045</td>\n",
              "      <td>6.258454</td>\n",
              "    </tr>\n",
              "    <tr>\n",
              "      <th>86234</th>\n",
              "      <td>-75.575120</td>\n",
              "      <td>6.301392</td>\n",
              "      <td>682518</td>\n",
              "      <td>1.6551e+06</td>\n",
              "      <td>2018/12/31 00:00:00+00</td>\n",
              "      <td>07:30:00</td>\n",
              "      <td>31</td>\n",
              "      <td>2018</td>\n",
              "      <td>Caida Ocupante</td>\n",
              "      <td>CL 103 CR 76</td>\n",
              "      <td>CL  103   076  000 00000</td>\n",
              "      <td>0604</td>\n",
              "      <td>Malla vial</td>\n",
              "      <td>HERIDO</td>\n",
              "      <td>Pedregal</td>\n",
              "      <td>Doce de Octubre</td>\n",
              "      <td>Tramo de via</td>\n",
              "      <td>LUNES</td>\n",
              "      <td>12</td>\n",
              "      <td>NaN</td>\n",
              "      <td>834246.07</td>\n",
              "      <td>1188801.36</td>\n",
              "      <td>-75.575120</td>\n",
              "      <td>6.301392</td>\n",
              "    </tr>\n",
              "    <tr>\n",
              "      <th>86301</th>\n",
              "      <td>-75.550346</td>\n",
              "      <td>6.273010</td>\n",
              "      <td>682585</td>\n",
              "      <td>1.65511e+06</td>\n",
              "      <td>2018/12/31 00:00:00+00</td>\n",
              "      <td>01:40:00</td>\n",
              "      <td>31</td>\n",
              "      <td>2018</td>\n",
              "      <td>Choque</td>\n",
              "      <td>CR 41 A CL 81</td>\n",
              "      <td>CR  041 A   081  000 00000</td>\n",
              "      <td>0303</td>\n",
              "      <td>Malla vial</td>\n",
              "      <td>HERIDO</td>\n",
              "      <td>Campo Valdés No. 2</td>\n",
              "      <td>Manrique</td>\n",
              "      <td>Interseccion</td>\n",
              "      <td>LUNES</td>\n",
              "      <td>12</td>\n",
              "      <td>NaN</td>\n",
              "      <td>836988.12</td>\n",
              "      <td>1185661.87</td>\n",
              "      <td>-75.550346</td>\n",
              "      <td>6.273010</td>\n",
              "    </tr>\n",
              "  </tbody>\n",
              "</table>\n",
              "</div>"
            ],
            "text/plain": [
              "               X         Y  OBJECTID  ...  Y_MAGNAMED   LONGITUD   LATITUD\n",
              "86230 -75.572551  6.265264    682514  ...  1184805.04 -75.572551  6.265264\n",
              "86231 -75.703816  6.221806    682515  ...  1180000.00 -75.703816  6.221806\n",
              "86232 -75.606045  6.258454    682516  ...  1184052.00 -75.606045  6.258454\n",
              "86234 -75.575120  6.301392    682518  ...  1188801.36 -75.575120  6.301392\n",
              "86301 -75.550346  6.273010    682585  ...  1185661.87 -75.550346  6.273010\n",
              "\n",
              "[5 rows x 24 columns]"
            ]
          },
          "metadata": {
            "tags": []
          },
          "execution_count": 2
        }
      ]
    },
    {
      "cell_type": "markdown",
      "metadata": {
        "id": "9h2e3XolzyLI"
      },
      "source": [
        "Que columnas tienen valores nulos"
      ]
    },
    {
      "cell_type": "code",
      "metadata": {
        "id": "flTOY7yNuY-i",
        "outputId": "ec15e37c-da5f-4f56-a0eb-2803af52d898",
        "colab": {
          "base_uri": "https://localhost:8080/"
        }
      },
      "source": [
        "df.isna().any()"
      ],
      "execution_count": null,
      "outputs": [
        {
          "output_type": "execute_result",
          "data": {
            "text/plain": [
              "X                False\n",
              "Y                False\n",
              "OBJECTID         False\n",
              "RADICADO         False\n",
              "FECHA            False\n",
              "HORA             False\n",
              "DIA              False\n",
              "PERIODO          False\n",
              "CLASE             True\n",
              "DIRECCION        False\n",
              "DIRECCION_ENC     True\n",
              "CBML              True\n",
              "TIPO_GEOCOD      False\n",
              "GRAVEDAD         False\n",
              "BARRIO            True\n",
              "COMUNA            True\n",
              "DISENO            True\n",
              "DIA_NOMBRE       False\n",
              "MES              False\n",
              "MES_NOMBRE        True\n",
              "X_MAGNAMED       False\n",
              "Y_MAGNAMED       False\n",
              "LONGITUD         False\n",
              "LATITUD          False\n",
              "dtype: bool"
            ]
          },
          "metadata": {
            "tags": []
          },
          "execution_count": 25
        }
      ]
    },
    {
      "cell_type": "markdown",
      "metadata": {
        "id": "-TybCmSiFa8W"
      },
      "source": [
        "Formato datos"
      ]
    },
    {
      "cell_type": "code",
      "metadata": {
        "id": "xu4dX0awz19N",
        "outputId": "578ae2c1-bc33-4e38-9b01-57ae1e6c544b",
        "colab": {
          "base_uri": "https://localhost:8080/",
          "height": 201
        }
      },
      "source": [
        "#Eliminar filas con NA y columnas que no consideramos importantes para el modelo.\n",
        "#Asignar mismos nombres a los tipos de accidentes (CLASE)\n",
        "def format(df):\n",
        "  df = df.drop(['X', 'Y', 'OBJECTID', 'RADICADO', 'DIRECCION', 'DIRECCION_ENC', 'FECHA',\n",
        "              'CBML', 'TIPO_GEOCOD', 'DISENO', 'MES_NOMBRE', 'X_MAGNAMED',\n",
        "              'Y_MAGNAMED'], axis=1)\n",
        "  df = df.dropna(subset=['CLASE', 'BARRIO', 'COMUNA'])\n",
        "\n",
        "  df[\"CLASE\"].replace({\"Caída de Ocupante\": \"Caida Ocupante\",\n",
        "                       \"Caida de Ocupante\": \"Caida Ocupante\",\n",
        "                       \"Caída Ocupante\": \"Caida Ocupante\",\n",
        "                       \"Choque \": \"Choque\"}, inplace=True)\n",
        "\n",
        "  return df\n",
        "\n",
        "df = format(df)\n",
        "df.columns = df.columns.str.lower()\n",
        "df.head()"
      ],
      "execution_count": 3,
      "outputs": [
        {
          "output_type": "execute_result",
          "data": {
            "text/html": [
              "<div>\n",
              "<style scoped>\n",
              "    .dataframe tbody tr th:only-of-type {\n",
              "        vertical-align: middle;\n",
              "    }\n",
              "\n",
              "    .dataframe tbody tr th {\n",
              "        vertical-align: top;\n",
              "    }\n",
              "\n",
              "    .dataframe thead th {\n",
              "        text-align: right;\n",
              "    }\n",
              "</style>\n",
              "<table border=\"1\" class=\"dataframe\">\n",
              "  <thead>\n",
              "    <tr style=\"text-align: right;\">\n",
              "      <th></th>\n",
              "      <th>hora</th>\n",
              "      <th>dia</th>\n",
              "      <th>periodo</th>\n",
              "      <th>clase</th>\n",
              "      <th>gravedad</th>\n",
              "      <th>barrio</th>\n",
              "      <th>comuna</th>\n",
              "      <th>dia_nombre</th>\n",
              "      <th>mes</th>\n",
              "      <th>longitud</th>\n",
              "      <th>latitud</th>\n",
              "    </tr>\n",
              "  </thead>\n",
              "  <tbody>\n",
              "    <tr>\n",
              "      <th>136790</th>\n",
              "      <td>04:20:00</td>\n",
              "      <td>1</td>\n",
              "      <td>2014</td>\n",
              "      <td>Choque</td>\n",
              "      <td>HERIDO</td>\n",
              "      <td>Campo Amor</td>\n",
              "      <td>Guayabal</td>\n",
              "      <td>MIÉRCOLES</td>\n",
              "      <td>1</td>\n",
              "      <td>-75.579329</td>\n",
              "      <td>6.209160</td>\n",
              "    </tr>\n",
              "    <tr>\n",
              "      <th>136789</th>\n",
              "      <td>09:10:00</td>\n",
              "      <td>1</td>\n",
              "      <td>2014</td>\n",
              "      <td>Choque</td>\n",
              "      <td>HERIDO</td>\n",
              "      <td>Barrio Colón</td>\n",
              "      <td>La Candelaria</td>\n",
              "      <td>MIÉRCOLES</td>\n",
              "      <td>1</td>\n",
              "      <td>-75.565164</td>\n",
              "      <td>6.242722</td>\n",
              "    </tr>\n",
              "    <tr>\n",
              "      <th>136788</th>\n",
              "      <td>08:50:00</td>\n",
              "      <td>1</td>\n",
              "      <td>2014</td>\n",
              "      <td>Choque</td>\n",
              "      <td>HERIDO</td>\n",
              "      <td>San Miguel</td>\n",
              "      <td>Villa Hermosa</td>\n",
              "      <td>MIÉRCOLES</td>\n",
              "      <td>1</td>\n",
              "      <td>-75.555400</td>\n",
              "      <td>6.252163</td>\n",
              "    </tr>\n",
              "    <tr>\n",
              "      <th>136787</th>\n",
              "      <td>08:00:00</td>\n",
              "      <td>1</td>\n",
              "      <td>2014</td>\n",
              "      <td>Otro</td>\n",
              "      <td>HERIDO</td>\n",
              "      <td>La Candelaria</td>\n",
              "      <td>La Candelaria</td>\n",
              "      <td>MIÉRCOLES</td>\n",
              "      <td>1</td>\n",
              "      <td>-75.564683</td>\n",
              "      <td>6.249282</td>\n",
              "    </tr>\n",
              "    <tr>\n",
              "      <th>136786</th>\n",
              "      <td>10:00:00</td>\n",
              "      <td>1</td>\n",
              "      <td>2014</td>\n",
              "      <td>Choque</td>\n",
              "      <td>HERIDO</td>\n",
              "      <td>La Milagrosa</td>\n",
              "      <td>Buenos Aires</td>\n",
              "      <td>MIÉRCOLES</td>\n",
              "      <td>1</td>\n",
              "      <td>-75.557573</td>\n",
              "      <td>6.235498</td>\n",
              "    </tr>\n",
              "  </tbody>\n",
              "</table>\n",
              "</div>"
            ],
            "text/plain": [
              "            hora  dia  periodo   clase  ... dia_nombre mes   longitud   latitud\n",
              "136790  04:20:00    1     2014  Choque  ...  MIÉRCOLES   1 -75.579329  6.209160\n",
              "136789  09:10:00    1     2014  Choque  ...  MIÉRCOLES   1 -75.565164  6.242722\n",
              "136788  08:50:00    1     2014  Choque  ...  MIÉRCOLES   1 -75.555400  6.252163\n",
              "136787  08:00:00    1     2014    Otro  ...  MIÉRCOLES   1 -75.564683  6.249282\n",
              "136786  10:00:00    1     2014  Choque  ...  MIÉRCOLES   1 -75.557573  6.235498\n",
              "\n",
              "[5 rows x 11 columns]"
            ]
          },
          "metadata": {
            "tags": []
          },
          "execution_count": 3
        }
      ]
    },
    {
      "cell_type": "markdown",
      "metadata": {
        "id": "OLMNuzP6-yfs"
      },
      "source": [
        "Filas con errores ortograficos en algunas columnas"
      ]
    },
    {
      "cell_type": "code",
      "metadata": {
        "id": "GW_NoE9x-_kW"
      },
      "source": [
        "df['COMUNA'].drop_duplicates()"
      ],
      "execution_count": null,
      "outputs": []
    },
    {
      "cell_type": "code",
      "metadata": {
        "id": "rWVwogK5FOHO"
      },
      "source": [
        "df['BARRIO'].drop_duplicates()"
      ],
      "execution_count": null,
      "outputs": []
    },
    {
      "cell_type": "code",
      "metadata": {
        "id": "yxgZQi2L_-3E",
        "outputId": "d522d28e-a0a2-4dd1-a097-9ce2bd64020c",
        "colab": {
          "base_uri": "https://localhost:8080/",
          "height": 204
        }
      },
      "source": [
        "df.head()"
      ],
      "execution_count": null,
      "outputs": [
        {
          "output_type": "execute_result",
          "data": {
            "text/html": [
              "<div>\n",
              "<style scoped>\n",
              "    .dataframe tbody tr th:only-of-type {\n",
              "        vertical-align: middle;\n",
              "    }\n",
              "\n",
              "    .dataframe tbody tr th {\n",
              "        vertical-align: top;\n",
              "    }\n",
              "\n",
              "    .dataframe thead th {\n",
              "        text-align: right;\n",
              "    }\n",
              "</style>\n",
              "<table border=\"1\" class=\"dataframe\">\n",
              "  <thead>\n",
              "    <tr style=\"text-align: right;\">\n",
              "      <th></th>\n",
              "      <th>HORA</th>\n",
              "      <th>DIA</th>\n",
              "      <th>PERIODO</th>\n",
              "      <th>CLASE</th>\n",
              "      <th>GRAVEDAD</th>\n",
              "      <th>BARRIO</th>\n",
              "      <th>COMUNA</th>\n",
              "      <th>DIA_NOMBRE</th>\n",
              "      <th>LONGITUD</th>\n",
              "      <th>LATITUD</th>\n",
              "    </tr>\n",
              "  </thead>\n",
              "  <tbody>\n",
              "    <tr>\n",
              "      <th>0</th>\n",
              "      <td>02:20:00</td>\n",
              "      <td>1</td>\n",
              "      <td>2014</td>\n",
              "      <td>Choque</td>\n",
              "      <td>HERIDO</td>\n",
              "      <td>Loma de los Bernal</td>\n",
              "      <td>Belén</td>\n",
              "      <td>MIÉRCOLES</td>\n",
              "      <td>-75.602726</td>\n",
              "      <td>6.219016</td>\n",
              "    </tr>\n",
              "    <tr>\n",
              "      <th>62</th>\n",
              "      <td>04:20:00</td>\n",
              "      <td>1</td>\n",
              "      <td>2014</td>\n",
              "      <td>Choque</td>\n",
              "      <td>HERIDO</td>\n",
              "      <td>Campo Amor</td>\n",
              "      <td>Guayabal</td>\n",
              "      <td>MIÉRCOLES</td>\n",
              "      <td>-75.579329</td>\n",
              "      <td>6.209160</td>\n",
              "    </tr>\n",
              "    <tr>\n",
              "      <th>61</th>\n",
              "      <td>09:10:00</td>\n",
              "      <td>1</td>\n",
              "      <td>2014</td>\n",
              "      <td>Choque</td>\n",
              "      <td>HERIDO</td>\n",
              "      <td>Barrio Colón</td>\n",
              "      <td>La Candelaria</td>\n",
              "      <td>MIÉRCOLES</td>\n",
              "      <td>-75.565164</td>\n",
              "      <td>6.242722</td>\n",
              "    </tr>\n",
              "    <tr>\n",
              "      <th>60</th>\n",
              "      <td>08:50:00</td>\n",
              "      <td>1</td>\n",
              "      <td>2014</td>\n",
              "      <td>Choque</td>\n",
              "      <td>HERIDO</td>\n",
              "      <td>San Miguel</td>\n",
              "      <td>Villa Hermosa</td>\n",
              "      <td>MIÉRCOLES</td>\n",
              "      <td>-75.555400</td>\n",
              "      <td>6.252163</td>\n",
              "    </tr>\n",
              "    <tr>\n",
              "      <th>59</th>\n",
              "      <td>08:00:00</td>\n",
              "      <td>1</td>\n",
              "      <td>2014</td>\n",
              "      <td>Otro</td>\n",
              "      <td>HERIDO</td>\n",
              "      <td>La Candelaria</td>\n",
              "      <td>La Candelaria</td>\n",
              "      <td>MIÉRCOLES</td>\n",
              "      <td>-75.564683</td>\n",
              "      <td>6.249282</td>\n",
              "    </tr>\n",
              "  </tbody>\n",
              "</table>\n",
              "</div>"
            ],
            "text/plain": [
              "        HORA  DIA  PERIODO   CLASE GRAVEDAD              BARRIO  \\\n",
              "0   02:20:00    1     2014  Choque   HERIDO  Loma de los Bernal   \n",
              "62  04:20:00    1     2014  Choque   HERIDO          Campo Amor   \n",
              "61  09:10:00    1     2014  Choque   HERIDO        Barrio Colón   \n",
              "60  08:50:00    1     2014  Choque   HERIDO          San Miguel   \n",
              "59  08:00:00    1     2014    Otro   HERIDO       La Candelaria   \n",
              "\n",
              "           COMUNA DIA_NOMBRE   LONGITUD   LATITUD  \n",
              "0           Belén  MIÉRCOLES -75.602726  6.219016  \n",
              "62       Guayabal  MIÉRCOLES -75.579329  6.209160  \n",
              "61  La Candelaria  MIÉRCOLES -75.565164  6.242722  \n",
              "60  Villa Hermosa  MIÉRCOLES -75.555400  6.252163  \n",
              "59  La Candelaria  MIÉRCOLES -75.564683  6.249282  "
            ]
          },
          "metadata": {
            "tags": []
          },
          "execution_count": 63
        }
      ]
    },
    {
      "cell_type": "code",
      "metadata": {
        "id": "KweiFw8s3DQV",
        "outputId": "65031a43-c6b6-4556-b1f8-6da6c7080dc1",
        "colab": {
          "base_uri": "https://localhost:8080/"
        }
      },
      "source": [
        "pd.set_option(\"display.max_rows\", None, \"display.max_columns\", None)\n",
        "len(df['BARRIO'].drop_duplicates())"
      ],
      "execution_count": 6,
      "outputs": [
        {
          "output_type": "execute_result",
          "data": {
            "text/plain": [
              "340"
            ]
          },
          "metadata": {
            "tags": []
          },
          "execution_count": 6
        }
      ]
    },
    {
      "cell_type": "markdown",
      "metadata": {
        "id": "4kgHOLzIE36J"
      },
      "source": [
        "Todos las columnas de *clase, gravedad, barrio, comuna, dia_nombre* se pasaron a miniuscula para evitar posibles inconveniesntes futuros"
      ]
    },
    {
      "cell_type": "code",
      "metadata": {
        "id": "Iqm_ZC0sC8ko"
      },
      "source": [
        "dfcopy = df.copy()\n",
        "dfcopy['clase'] = dfcopy['clase'].str.lower()\n",
        "dfcopy['gravedad'] = dfcopy['gravedad'].str.lower()\n",
        "dfcopy['barrio'] = dfcopy['barrio'].str.lower()\n",
        "dfcopy['comuna'] = dfcopy['comuna'].str.lower()\n",
        "dfcopy['dia_nombre'] = dfcopy['dia_nombre'].str.lower()"
      ],
      "execution_count": 16,
      "outputs": []
    },
    {
      "cell_type": "markdown",
      "metadata": {
        "id": "mOMdU6LW5dFt"
      },
      "source": [
        "## Barrios\n"
      ]
    },
    {
      "cell_type": "markdown",
      "metadata": {
        "id": "RKAYgImiYYQT"
      },
      "source": [
        "Se eliminan las filas donde el barrio sale como un número"
      ]
    },
    {
      "cell_type": "code",
      "metadata": {
        "id": "AzhEgOFdGZbB"
      },
      "source": [
        "for barrio in dfcopy['barrio']:\n",
        "    try:\n",
        "        int(barrio)\n",
        "        dfcopy = dfcopy.replace({'barrio': barrio}, np.nan)\n",
        "    except:\n",
        "        pass\n",
        "dfcopy= dfcopy.dropna(subset=['barrio'])"
      ],
      "execution_count": 17,
      "outputs": []
    },
    {
      "cell_type": "markdown",
      "metadata": {
        "id": "Wav_FHAKx8WG"
      },
      "source": [
        "Para quitar corregir los barrios donde salía **no. #**  para que salga **no.#**"
      ]
    },
    {
      "cell_type": "code",
      "metadata": {
        "id": "x46asBOftMsR"
      },
      "source": [
        "def error_no(row):\n",
        "    barrio = row['barrio'].strip()\n",
        "    b = bool(re.search(r'(no)\\. \\d', barrio))\n",
        "    if (b):\n",
        "        b = barrio.split()\n",
        "        barrio = ' '.join(b[0:-2])\n",
        "        barrio += ' '+b[-2]+b[-1]\n",
        "    row['barrio'] = barrio\n",
        "    return row\n",
        "dfcopy = dfcopy.apply(error_no,axis=1)"
      ],
      "execution_count": 18,
      "outputs": []
    },
    {
      "cell_type": "code",
      "metadata": {
        "id": "uvXxVRUBotdY"
      },
      "source": [
        "# Barrios con problemas\n",
        "# en Medellin se supone hay 275 barrio (segun wikipedia)\n",
        "\n",
        "# hay varios suburbanos que me parecen raros\n",
        "# el barrio 'u.p.b'\n",
        "# creo que todos los barrios que se llaman universidad algo estan mal (el de falcultad de minas existe)\n"
      ],
      "execution_count": null,
      "outputs": []
    },
    {
      "cell_type": "code",
      "metadata": {
        "id": "Vbdmsq8T1ary"
      },
      "source": [
        "dfcopy = dfcopy.replace({'barrio':{'barrio de jesús':'barrios de jesús',\n",
        "                                   'berlin':'berlín',\n",
        "                                   'inst':np.nan,\n",
        "                                   'loma de los bernal':'la loma de los bernal',\n",
        "                                   'villa liliam':'villa lilliam'}})"
      ],
      "execution_count": 19,
      "outputs": []
    },
    {
      "cell_type": "code",
      "metadata": {
        "id": "2pENHIWjnyD2"
      },
      "source": [
        "barrios = dfcopy['barrio'].sort_values().unique()\n",
        "# barrios[200:-1]"
      ],
      "execution_count": 8,
      "outputs": []
    },
    {
      "cell_type": "code",
      "metadata": {
        "id": "HshYifmo4KAr",
        "outputId": "2e6476eb-af58-4e9e-f2e3-4ef83f05abe8",
        "colab": {
          "base_uri": "https://localhost:8080/"
        }
      },
      "source": [
        "len(barrios)"
      ],
      "execution_count": 9,
      "outputs": [
        {
          "output_type": "execute_result",
          "data": {
            "text/plain": [
              "317"
            ]
          },
          "metadata": {
            "tags": []
          },
          "execution_count": 9
        }
      ]
    },
    {
      "cell_type": "markdown",
      "metadata": {
        "id": "DuFRjnJw5hEx"
      },
      "source": [
        "## Comunas"
      ]
    },
    {
      "cell_type": "code",
      "metadata": {
        "id": "oiUSuon-5j3N"
      },
      "source": [
        "# 1\tComuna 1 - Popular\n",
        "# 2\tComuna 2 - Santa Cruz\n",
        "# 3\tComuna 3 - Manrique\n",
        "# 4\tComuna 4 - Aranjuez\n",
        "# 5\tComuna 5 - Castilla\n",
        "# 6\tComuna 6 - Doce de Octubre\n",
        "# 7\tComuna 7 - Robledo\n",
        "# 8\tComuna 8 - Villa Hermosa\n",
        "# 9\tComuna 9 - Buenos Aires\n",
        "# 10\tComuna 10 - La Candelaria\n",
        "# 11\tComuna 11 - Laureles-Estadio\n",
        "# 12\tComuna 12 - La América\n",
        "# 13\tComuna 13 - San Javier\n",
        "# 14\tComuna 14 - El Poblado\n",
        "# 15\tComuna 15 - Guayabal\n",
        "# 16\tComuna 16 - Belén"
      ],
      "execution_count": null,
      "outputs": []
    },
    {
      "cell_type": "code",
      "metadata": {
        "id": "9N_9jwDR7rW7"
      },
      "source": [
        "dfcopy = dfcopy.replace({'comuna':{ 'alejandro echavarría': 'buenos aires',\n",
        "                                    'alfonso lópez':'castilla',\n",
        "                                    'altavista':'belén',\n",
        "                                    'andalucía':'santa cruz',\n",
        "                                    'antonio nariño':'san javier',\n",
        "                                    'au':np.nan,\n",
        "                                    'barrio colón':'la candelaria',\n",
        "                                    'bolivariana':'laureles-estadio',\n",
        "                                    'boston':'la candelaria',\n",
        "                                    'cabecera san antonio de prado':'corregimiento san antorio de prado',\n",
        "                                    'calasanz':'la américa',\n",
        "                                    'calle nueva':'la candelaria',\n",
        "                                    'campo amor':'guayabal',\n",
        "                                    'campo valdés no. 1':'aranjuez',\n",
        "                                    'campo valdés no. 2':'manrique',\n",
        "                                    'caribe':'castilla',\n",
        "                                    'cerro nutibara':'belén',\n",
        "                                    'corazón de jesús':'la candelaria',\n",
        "                                    'cristo rey':'guayabal',\n",
        "                                    'el chagualo':'la candelaria',\n",
        "                                    'el nogal-los almendros':'belén',\n",
        "                                    'el raizal':'manrique',\n",
        "                                    'estación villa':'la candelaria',\n",
        "                                    'florida nueva':'laureles-estadio',\n",
        "                                    'fátima':'belén',\n",
        "                                    'girardot':'castilla',\n",
        "                                    'guayaquil':'la candelaria',\n",
        "                                    'héctor abad gómez':'castilla'}})"
      ],
      "execution_count": 20,
      "outputs": []
    },
    {
      "cell_type": "code",
      "metadata": {
        "id": "s5TfXG9n_GOs"
      },
      "source": [
        "dfcopy = dfcopy.replace({'comuna':{'in':np.nan, \n",
        "                                'jesús nazareno':'la candelaria',\n",
        "                                'la alpujarra':np.nan,\n",
        "                                'la colina':'guayabal',\n",
        "                                'la floresta':'la américa',\n",
        "                                'la rosa':'santa cruz',\n",
        "                                'las esmeraldas':'aranjuez',\n",
        "                                'las granjas':'manrique',\n",
        "                                'las palmas':'la candelaria',\n",
        "                                'las playas':'belén',\n",
        "                                'laureles':'laureles-estadio',\n",
        "                                'laureles estadio':'laureles-estadio', \n",
        "                                'los conquistadores':'laureles-estadio',\n",
        "                                'los mangos':'villa hermosa',\n",
        "                                'manila':'el poblado',\n",
        "                                'miranda':'aranjuez',\n",
        "                                'moravia':'aranjuez',\n",
        "                                'naranjal':'laureles-estadio',\n",
        "                                'oleoducto':np.nan,\n",
        "                                'parque juan pablo ii':'buenos aires',\n",
        "                                'patio bonito':'el poblado',\n",
        "                                'perpetuo socorro':'la candelaria',\n",
        "                                'rosales':'belén',\n",
        "                                'san pedro':'aranjuez',\n",
        "                                'santa fé':'guayabal',\n",
        "                                'santa inés':'manrique',\n",
        "                                'santa maría de los ángeles':'el poblado',\n",
        "                                'simón bolívar':'la américa',\n",
        "                                'sn':np.nan,\n",
        "                                'suramericana':'laureles-estadio',\n",
        "                                'toscana':'castilla',\n",
        "                                'universidad de antioquia':np.nan,\n",
        "                                'veinte de julio':'san javier',\n",
        "                                'villa carlota':'el poblado',\n",
        "                                'villa guadalupe':'popular'}})"
      ],
      "execution_count": 21,
      "outputs": []
    },
    {
      "cell_type": "code",
      "metadata": {
        "id": "6ggYAXS16CSi",
        "outputId": "e322f5c0-beec-4d74-fdfd-bfc89452e0e0",
        "colab": {
          "base_uri": "https://localhost:8080/"
        }
      },
      "source": [
        "comunas = dfcopy['comuna'].sort_values().unique()\n",
        "comunas"
      ],
      "execution_count": 22,
      "outputs": [
        {
          "output_type": "execute_result",
          "data": {
            "text/plain": [
              "array(['aranjuez', 'belén', 'buenos aires', 'castilla',\n",
              "       'corregimiento de altavista',\n",
              "       'corregimiento de san antonio de prado',\n",
              "       'corregimiento de san cristóbal',\n",
              "       'corregimiento de san sebastián de palmitas',\n",
              "       'corregimiento de santa elena',\n",
              "       'corregimiento san antorio de prado', 'doce de octubre',\n",
              "       'el poblado', 'guayabal', 'la américa', 'la candelaria',\n",
              "       'laureles-estadio', 'manrique', 'popular', 'robledo', 'san javier',\n",
              "       'santa cruz', 'villa hermosa', nan], dtype=object)"
            ]
          },
          "metadata": {
            "tags": []
          },
          "execution_count": 22
        }
      ]
    }
  ]
}